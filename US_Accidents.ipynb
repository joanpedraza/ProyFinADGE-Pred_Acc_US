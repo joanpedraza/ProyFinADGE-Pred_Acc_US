{
  "cells": [
    {
      "cell_type": "markdown",
      "id": "8571a4d7",
      "metadata": {
        "id": "8571a4d7"
      },
      "source": []
    },
    {
      "cell_type": "code",
      "source": [
        "from google.colab import drive\n",
        "drive.mount('/content/drive')\n",
        "%cd '/content/drive/MyDrive/Analisis de datos a gran escala/Proyecto'"
      ],
      "metadata": {
        "colab": {
          "base_uri": "https://localhost:8080/"
        },
        "id": "_lwsc9Bxpne_",
        "outputId": "68e389e8-8114-44ed-f88f-69b7950a2fc6"
      },
      "id": "_lwsc9Bxpne_",
      "execution_count": 23,
      "outputs": [
        {
          "output_type": "stream",
          "name": "stdout",
          "text": [
            "Drive already mounted at /content/drive; to attempt to forcibly remount, call drive.mount(\"/content/drive\", force_remount=True).\n",
            "/content/drive/MyDrive/Analisis de datos a gran escala/Proyecto\n"
          ]
        }
      ]
    },
    {
      "cell_type": "code",
      "execution_count": 24,
      "id": "3dcbaf6b",
      "metadata": {
        "colab": {
          "base_uri": "https://localhost:8080/"
        },
        "id": "3dcbaf6b",
        "outputId": "0125ce14-d6f3-4157-ffb5-6f972e0c3861"
      },
      "outputs": [
        {
          "output_type": "stream",
          "name": "stdout",
          "text": [
            "Requirement already satisfied: pyspark in /usr/local/lib/python3.11/dist-packages (3.5.1)\n",
            "Requirement already satisfied: py4j==0.10.9.7 in /usr/local/lib/python3.11/dist-packages (from pyspark) (0.10.9.7)\n"
          ]
        }
      ],
      "source": [
        "%pip install pyspark"
      ]
    },
    {
      "cell_type": "code",
      "execution_count": 97,
      "id": "3f8fd577",
      "metadata": {
        "id": "3f8fd577"
      },
      "outputs": [],
      "source": [
        "import pandas as pd\n",
        "import numpy as np\n",
        "import pyspark as spark"
      ]
    },
    {
      "cell_type": "code",
      "source": [
        "from pyspark.sql import SparkSession\n",
        "from pyspark.sql.functions import year, to_date\n",
        "\n",
        "spark = SparkSession.builder.appName(\"Accidentes\").getOrCreate()\n",
        "\n",
        "# Leer CSV\n",
        "df = spark.read.csv(\"US_Accidents_2016-18.csv\", header=True)\n",
        "\n",
        "#Pasamos las columnas Start_time a sólo la fecha para manejarla mejor. End_Time no nos interesa\n",
        "df = df.withColumn(\"Date\", to_date(\"Start_Time\"))\n",
        "\n",
        "df.show(5)"
      ],
      "metadata": {
        "colab": {
          "base_uri": "https://localhost:8080/"
        },
        "id": "jkS1K2eirRzB",
        "outputId": "6b31c04c-bb96-49a7-d9ae-d2fa236fe10f"
      },
      "id": "jkS1K2eirRzB",
      "execution_count": 66,
      "outputs": [
        {
          "output_type": "stream",
          "name": "stdout",
          "text": [
            "+---+-------+--------+-------------------+-------------------+-----------------+------------------+-------+-------+------------+--------------------+--------------------+------------+----------+-----+----------+-------+----------+------------+-------------------+--------------+-------------+-----------+------------+--------------+--------------+---------------+-----------------+-----------------+-------+-----+--------+--------+--------+-------+-------+----------+-------+-----+---------------+--------------+------------+--------------+--------------+-----------------+---------------------+----------+\n",
            "| ID| Source|Severity|         Start_Time|           End_Time|        Start_Lat|         Start_Lng|End_Lat|End_Lng|Distance(mi)|         Description|              Street|        City|    County|State|   Zipcode|Country|  Timezone|Airport_Code|  Weather_Timestamp|Temperature(F)|Wind_Chill(F)|Humidity(%)|Pressure(in)|Visibility(mi)|Wind_Direction|Wind_Speed(mph)|Precipitation(in)|Weather_Condition|Amenity| Bump|Crossing|Give_Way|Junction|No_Exit|Railway|Roundabout|Station| Stop|Traffic_Calming|Traffic_Signal|Turning_Loop|Sunrise_Sunset|Civil_Twilight|Nautical_Twilight|Astronomical_Twilight|      Date|\n",
            "+---+-------+--------+-------------------+-------------------+-----------------+------------------+-------+-------+------------+--------------------+--------------------+------------+----------+-----+----------+-------+----------+------------+-------------------+--------------+-------------+-----------+------------+--------------+--------------+---------------+-----------------+-----------------+-------+-----+--------+--------+--------+-------+-------+----------+-------+-----+---------------+--------------+------------+--------------+--------------+-----------------+---------------------+----------+\n",
            "|A-1|Source2|       3|2016-02-08 05:46:00|2016-02-08 11:00:00|        39.865147|        -84.058723|   NULL|   NULL|        0.01|Right lane blocke...|              I-70 E|      Dayton|Montgomery|   OH|     45424|     US|US/Eastern|        KFFO|2016-02-08 05:58:00|          36.9|         NULL|       91.0|       29.68|          10.0|          Calm|           NULL|             0.02|       Light Rain|  False|False|   False|   False|   False|  False|  False|     False|  False|False|          False|         False|       False|         Night|         Night|            Night|                Night|2016-02-08|\n",
            "|A-2|Source2|       2|2016-02-08 06:07:59|2016-02-08 06:37:59|39.92805900000001|        -82.831184|   NULL|   NULL|        0.01|Accident on Brice...|            Brice Rd|Reynoldsburg|  Franklin|   OH|43068-3402|     US|US/Eastern|        KCMH|2016-02-08 05:51:00|          37.9|         NULL|      100.0|       29.65|          10.0|          Calm|           NULL|              0.0|       Light Rain|  False|False|   False|   False|   False|  False|  False|     False|  False|False|          False|         False|       False|         Night|         Night|            Night|                  Day|2016-02-08|\n",
            "|A-3|Source2|       2|2016-02-08 06:49:27|2016-02-08 07:19:27|        39.063148|        -84.032608|   NULL|   NULL|        0.01|Accident on OH-32...|      State Route 32|Williamsburg|  Clermont|   OH|     45176|     US|US/Eastern|        KI69|2016-02-08 06:56:00|          36.0|         33.3|      100.0|       29.67|          10.0|            SW|            3.5|             NULL|         Overcast|  False|False|   False|   False|   False|  False|  False|     False|  False|False|          False|          True|       False|         Night|         Night|              Day|                  Day|2016-02-08|\n",
            "|A-4|Source2|       3|2016-02-08 07:23:34|2016-02-08 07:53:34|        39.747753|-84.20558199999998|   NULL|   NULL|        0.01|Accident on I-75 ...|              I-75 S|      Dayton|Montgomery|   OH|     45417|     US|US/Eastern|        KDAY|2016-02-08 07:38:00|          35.1|         31.0|       96.0|       29.64|           9.0|            SW|            4.6|             NULL|    Mostly Cloudy|  False|False|   False|   False|   False|  False|  False|     False|  False|False|          False|         False|       False|         Night|           Day|              Day|                  Day|2016-02-08|\n",
            "|A-5|Source2|       2|2016-02-08 07:39:07|2016-02-08 08:09:07|        39.627781|        -84.188354|   NULL|   NULL|        0.01|Accident on McEwe...|Miamisburg Center...|      Dayton|Montgomery|   OH|     45459|     US|US/Eastern|        KMGY|2016-02-08 07:53:00|          36.0|         33.3|       89.0|       29.65|           6.0|            SW|            3.5|             NULL|    Mostly Cloudy|  False|False|   False|   False|   False|  False|  False|     False|  False|False|          False|          True|       False|           Day|           Day|              Day|                  Day|2016-02-08|\n",
            "+---+-------+--------+-------------------+-------------------+-----------------+------------------+-------+-------+------------+--------------------+--------------------+------------+----------+-----+----------+-------+----------+------------+-------------------+--------------+-------------+-----------+------------+--------------+--------------+---------------+-----------------+-----------------+-------+-----+--------+--------+--------+-------+-------+----------+-------+-----+---------------+--------------+------------+--------------+--------------+-----------------+---------------------+----------+\n",
            "only showing top 5 rows\n",
            "\n"
          ]
        }
      ]
    },
    {
      "cell_type": "code",
      "source": [
        "df.printSchema()"
      ],
      "metadata": {
        "colab": {
          "base_uri": "https://localhost:8080/"
        },
        "id": "R8YXGO7NQp5R",
        "outputId": "206c189d-b3c1-4731-8af3-17f3c84dcd9a"
      },
      "id": "R8YXGO7NQp5R",
      "execution_count": 67,
      "outputs": [
        {
          "output_type": "stream",
          "name": "stdout",
          "text": [
            "root\n",
            " |-- ID: string (nullable = true)\n",
            " |-- Source: string (nullable = true)\n",
            " |-- Severity: string (nullable = true)\n",
            " |-- Start_Time: string (nullable = true)\n",
            " |-- End_Time: string (nullable = true)\n",
            " |-- Start_Lat: string (nullable = true)\n",
            " |-- Start_Lng: string (nullable = true)\n",
            " |-- End_Lat: string (nullable = true)\n",
            " |-- End_Lng: string (nullable = true)\n",
            " |-- Distance(mi): string (nullable = true)\n",
            " |-- Description: string (nullable = true)\n",
            " |-- Street: string (nullable = true)\n",
            " |-- City: string (nullable = true)\n",
            " |-- County: string (nullable = true)\n",
            " |-- State: string (nullable = true)\n",
            " |-- Zipcode: string (nullable = true)\n",
            " |-- Country: string (nullable = true)\n",
            " |-- Timezone: string (nullable = true)\n",
            " |-- Airport_Code: string (nullable = true)\n",
            " |-- Weather_Timestamp: string (nullable = true)\n",
            " |-- Temperature(F): string (nullable = true)\n",
            " |-- Wind_Chill(F): string (nullable = true)\n",
            " |-- Humidity(%): string (nullable = true)\n",
            " |-- Pressure(in): string (nullable = true)\n",
            " |-- Visibility(mi): string (nullable = true)\n",
            " |-- Wind_Direction: string (nullable = true)\n",
            " |-- Wind_Speed(mph): string (nullable = true)\n",
            " |-- Precipitation(in): string (nullable = true)\n",
            " |-- Weather_Condition: string (nullable = true)\n",
            " |-- Amenity: string (nullable = true)\n",
            " |-- Bump: string (nullable = true)\n",
            " |-- Crossing: string (nullable = true)\n",
            " |-- Give_Way: string (nullable = true)\n",
            " |-- Junction: string (nullable = true)\n",
            " |-- No_Exit: string (nullable = true)\n",
            " |-- Railway: string (nullable = true)\n",
            " |-- Roundabout: string (nullable = true)\n",
            " |-- Station: string (nullable = true)\n",
            " |-- Stop: string (nullable = true)\n",
            " |-- Traffic_Calming: string (nullable = true)\n",
            " |-- Traffic_Signal: string (nullable = true)\n",
            " |-- Turning_Loop: string (nullable = true)\n",
            " |-- Sunrise_Sunset: string (nullable = true)\n",
            " |-- Civil_Twilight: string (nullable = true)\n",
            " |-- Nautical_Twilight: string (nullable = true)\n",
            " |-- Astronomical_Twilight: string (nullable = true)\n",
            " |-- Date: date (nullable = true)\n",
            "\n"
          ]
        }
      ]
    },
    {
      "cell_type": "code",
      "source": [
        "print(\"Cantidad de datos: \", df.count())"
      ],
      "metadata": {
        "colab": {
          "base_uri": "https://localhost:8080/"
        },
        "id": "h3dT9F6jXNsn",
        "outputId": "5d0be098-3e64-4971-ad4f-5421c808789b"
      },
      "id": "h3dT9F6jXNsn",
      "execution_count": 68,
      "outputs": [
        {
          "output_type": "stream",
          "name": "stdout",
          "text": [
            "Cantidad de datos:  2021537\n"
          ]
        }
      ]
    },
    {
      "cell_type": "code",
      "source": [
        "from pyspark.sql.functions import col, sum\n",
        "\n",
        "df.select([\n",
        "    sum(col(c).isNull().cast(\"int\")).alias(c)\n",
        "    for c in df.columns\n",
        "]).show(truncate=False)"
      ],
      "metadata": {
        "colab": {
          "base_uri": "https://localhost:8080/"
        },
        "id": "C1tviA7jZbOV",
        "outputId": "32fddd11-5d1b-43c3-fb8f-39ec3df34a44"
      },
      "id": "C1tviA7jZbOV",
      "execution_count": 69,
      "outputs": [
        {
          "output_type": "stream",
          "name": "stdout",
          "text": [
            "+---+------+--------+----------+--------+---------+---------+-------+-------+------------+-----------+------+----+------+-----+-------+-------+--------+------------+-----------------+--------------+-------------+-----------+------------+--------------+--------------+---------------+-----------------+-----------------+-------+----+--------+--------+--------+-------+-------+----------+-------+----+---------------+--------------+------------+--------------+--------------+-----------------+---------------------+----+\n",
            "|ID |Source|Severity|Start_Time|End_Time|Start_Lat|Start_Lng|End_Lat|End_Lng|Distance(mi)|Description|Street|City|County|State|Zipcode|Country|Timezone|Airport_Code|Weather_Timestamp|Temperature(F)|Wind_Chill(F)|Humidity(%)|Pressure(in)|Visibility(mi)|Wind_Direction|Wind_Speed(mph)|Precipitation(in)|Weather_Condition|Amenity|Bump|Crossing|Give_Way|Junction|No_Exit|Railway|Roundabout|Station|Stop|Traffic_Calming|Traffic_Signal|Turning_Loop|Sunrise_Sunset|Civil_Twilight|Nautical_Twilight|Astronomical_Twilight|Date|\n",
            "+---+------+--------+----------+--------+---------+---------+-------+-------+------------+-----------+------+----+------+-----+-------+-------+--------+------------+-----------------+--------------+-------------+-----------+------------+--------------+--------------+---------------+-----------------+-----------------+-------+----+--------+--------+--------+-------+-------+----------+-------+----+---------------+--------------+------------+--------------+--------------+-----------------+---------------------+----+\n",
            "|0  |0     |0       |0         |0       |0        |0        |1554317|1554317|0           |0          |6     |64  |0     |0    |501    |0      |1675    |3324        |24957            |38841         |1703841      |40870      |34313       |47179         |25070         |380885         |1779853          |47616            |0      |0   |0       |0       |0       |0      |0      |0         |0      |0   |0              |0             |0           |84            |84            |84               |84                   |0   |\n",
            "+---+------+--------+----------+--------+---------+---------+-------+-------+------------+-----------+------+----+------+-----+-------+-------+--------+------------+-----------------+--------------+-------------+-----------+------------+--------------+--------------+---------------+-----------------+-----------------+-------+----+--------+--------+--------+-------+-------+----------+-------+----+---------------+--------------+------------+--------------+--------------+-----------------+---------------------+----+\n",
            "\n"
          ]
        }
      ]
    },
    {
      "cell_type": "code",
      "source": [
        "df_interest = df.select(\"Date\", \"City\", \"State\", \"Temperature(F)\", \"Humidity(%)\", \"Pressure(in)\", \"Visibility(mi)\", \"Wind_Speed(mph)\", \"Weather_Condition\")"
      ],
      "metadata": {
        "id": "40GovImAWYjx"
      },
      "id": "40GovImAWYjx",
      "execution_count": 87,
      "outputs": []
    },
    {
      "cell_type": "code",
      "source": [
        "df_interest = df_interest.dropna()\n",
        "print(\"Cantidad de datos: \", df_interest.count())"
      ],
      "metadata": {
        "colab": {
          "base_uri": "https://localhost:8080/"
        },
        "id": "ZgIaFqc5ZC1R",
        "outputId": "723a14fd-2c7e-41f4-fdbe-140f98122919"
      },
      "id": "ZgIaFqc5ZC1R",
      "execution_count": 88,
      "outputs": [
        {
          "output_type": "stream",
          "name": "stdout",
          "text": [
            "Cantidad de datos:  1621127\n"
          ]
        }
      ]
    },
    {
      "cell_type": "code",
      "source": [
        "from pyspark.ml.feature import StringIndexer\n",
        "from pyspark.ml import Pipeline\n",
        "\n",
        "categorical_cols = [\"City\", \"State\", \"Weather_Condition\"]\n",
        "\n",
        "indexers = [\n",
        "    StringIndexer(inputCol=col, outputCol=col + \"_Index\", handleInvalid=\"keep\")\n",
        "    for col in categorical_cols\n",
        "]\n",
        "\n",
        "pipeline = Pipeline(stages=indexers)\n",
        "model = pipeline.fit(df_interest)\n",
        "df_interest = model.transform(df_interest)"
      ],
      "metadata": {
        "id": "uMnVxk78bxvy"
      },
      "id": "uMnVxk78bxvy",
      "execution_count": 89,
      "outputs": []
    },
    {
      "cell_type": "code",
      "source": [
        "df_interest.show(5)"
      ],
      "metadata": {
        "colab": {
          "base_uri": "https://localhost:8080/"
        },
        "id": "7zh5FNhDb7n3",
        "outputId": "7f5d4d2b-cd1b-4247-b509-b19fb9cd47e3"
      },
      "id": "7zh5FNhDb7n3",
      "execution_count": 90,
      "outputs": [
        {
          "output_type": "stream",
          "name": "stdout",
          "text": [
            "+----------+------------+-----+--------------+-----------+------------+--------------+---------------+-----------------+----------+-----------+-----------------------+\n",
            "|      Date|        City|State|Temperature(F)|Humidity(%)|Pressure(in)|Visibility(mi)|Wind_Speed(mph)|Weather_Condition|City_Index|State_Index|Weather_Condition_Index|\n",
            "+----------+------------+-----+--------------+-----------+------------+--------------+---------------+-----------------+----------+-----------+-----------------------+\n",
            "|2016-02-08|Williamsburg|   OH|          36.0|      100.0|       29.67|          10.0|            3.5|         Overcast|     885.0|       12.0|                    1.0|\n",
            "|2016-02-08|      Dayton|   OH|          35.1|       96.0|       29.64|           9.0|            4.6|    Mostly Cloudy|      26.0|       12.0|                    2.0|\n",
            "|2016-02-08|      Dayton|   OH|          36.0|       89.0|       29.65|           6.0|            3.5|    Mostly Cloudy|      26.0|       12.0|                    2.0|\n",
            "|2016-02-08| Westerville|   OH|          37.9|       97.0|       29.63|           7.0|            3.5|       Light Rain|     556.0|       12.0|                    5.0|\n",
            "|2016-02-08|      Dayton|   OH|          34.0|      100.0|       29.66|           7.0|            3.5|         Overcast|      26.0|       12.0|                    1.0|\n",
            "+----------+------------+-----+--------------+-----------+------------+--------------+---------------+-----------------+----------+-----------+-----------------------+\n",
            "only showing top 5 rows\n",
            "\n"
          ]
        }
      ]
    },
    {
      "cell_type": "code",
      "source": [
        "accidents_per_day = df_interest.groupBy(\"Date\").count().withColumnRenamed(\"count\", \"Accidents\")\n",
        "\n",
        "df_interest = df_interest.join(accidents_per_day, on=\"Date\", how=\"left\")\n",
        "df_interest = df_interest.drop(\"Start_Time\")\n",
        "\n",
        "df_interest.show(5)"
      ],
      "metadata": {
        "colab": {
          "base_uri": "https://localhost:8080/"
        },
        "id": "vNM0xSb8gIL1",
        "outputId": "68e5fa96-4c82-49b0-f198-fe0874781789"
      },
      "id": "vNM0xSb8gIL1",
      "execution_count": 91,
      "outputs": [
        {
          "output_type": "stream",
          "name": "stdout",
          "text": [
            "+----------+------------+-----+--------------+-----------+------------+--------------+---------------+-----------------+----------+-----------+-----------------------+---------+\n",
            "|      Date|        City|State|Temperature(F)|Humidity(%)|Pressure(in)|Visibility(mi)|Wind_Speed(mph)|Weather_Condition|City_Index|State_Index|Weather_Condition_Index|Accidents|\n",
            "+----------+------------+-----+--------------+-----------+------------+--------------+---------------+-----------------+----------+-----------+-----------------------+---------+\n",
            "|2016-02-08|Williamsburg|   OH|          36.0|      100.0|       29.67|          10.0|            3.5|         Overcast|     885.0|       12.0|                    1.0|       49|\n",
            "|2016-02-08|      Dayton|   OH|          35.1|       96.0|       29.64|           9.0|            4.6|    Mostly Cloudy|      26.0|       12.0|                    2.0|       49|\n",
            "|2016-02-08|      Dayton|   OH|          36.0|       89.0|       29.65|           6.0|            3.5|    Mostly Cloudy|      26.0|       12.0|                    2.0|       49|\n",
            "|2016-02-08| Westerville|   OH|          37.9|       97.0|       29.63|           7.0|            3.5|       Light Rain|     556.0|       12.0|                    5.0|       49|\n",
            "|2016-02-08|      Dayton|   OH|          34.0|      100.0|       29.66|           7.0|            3.5|         Overcast|      26.0|       12.0|                    1.0|       49|\n",
            "+----------+------------+-----+--------------+-----------+------------+--------------+---------------+-----------------+----------+-----------+-----------------------+---------+\n",
            "only showing top 5 rows\n",
            "\n"
          ]
        }
      ]
    },
    {
      "cell_type": "code",
      "source": [
        "from pyspark.sql.functions import avg\n",
        "\n",
        "df_interest_countrywise = df_interest.groupBy(\"Date\").agg(\n",
        "    avg(\"Temperature(F)\").alias(\"Temperature(F)\"),\n",
        "    avg(\"Humidity(%)\").alias(\"Humidity(%)\"),\n",
        "    avg(\"Pressure(in)\").alias(\"Pressure(in)\"),\n",
        "    avg(\"Visibility(mi)\").alias(\"Visibility(mi)\"),\n",
        "    avg(\"Wind_Speed(mph)\").alias(\"Wind_Speed(mph)\"),\n",
        "    avg(\"Weather_Condition_Index\").alias(\"Weather_Condition_Index\"),\n",
        "    avg(\"Accidents\").alias(\"Accidents\")\n",
        ")\n",
        "\n",
        "df_interest_countrywise = df_interest_countrywise.orderBy(\"Date\")\n",
        "df_interest_countrywise.show(5)"
      ],
      "metadata": {
        "colab": {
          "base_uri": "https://localhost:8080/"
        },
        "id": "nastAMRskqPc",
        "outputId": "e175136e-fc7d-4590-c796-e512433abe89"
      },
      "id": "nastAMRskqPc",
      "execution_count": 93,
      "outputs": [
        {
          "output_type": "stream",
          "name": "stdout",
          "text": [
            "+----------+------------------+-----------------+------------------+------------------+------------------+-----------------------+---------+\n",
            "|      Date|    Temperature(F)|      Humidity(%)|      Pressure(in)|    Visibility(mi)|   Wind_Speed(mph)|Weather_Condition_Index|Accidents|\n",
            "+----------+------------------+-----------------+------------------+------------------+------------------+-----------------------+---------+\n",
            "|2016-01-14|              31.0|             69.0|             29.53|              10.0|               3.0|                    9.0|      7.0|\n",
            "|2016-02-08|35.355102040816305|91.71428571428571| 29.64163265306123|6.7306122448979595|  6.36326530612245|     3.5714285714285716|     49.0|\n",
            "|2016-02-09|23.532203389830517|87.11864406779661|29.679830508474573| 2.410169491525424|11.461016949152546|      5.728813559322034|     59.0|\n",
            "|2016-02-10|17.854347826086954|77.17391304347827|  29.9086956521739| 3.823913043478261|13.147826086956524|      5.239130434782608|     46.0|\n",
            "|2016-02-11|15.974390243902443|65.03658536585365|30.238414634146334| 9.213414634146341| 8.924390243902442|     2.5121951219512195|     82.0|\n",
            "+----------+------------------+-----------------+------------------+------------------+------------------+-----------------------+---------+\n",
            "only showing top 5 rows\n",
            "\n"
          ]
        }
      ]
    },
    {
      "cell_type": "code",
      "source": [
        "df_interest_countrywise.show(20)"
      ],
      "metadata": {
        "colab": {
          "base_uri": "https://localhost:8080/"
        },
        "id": "nL_8dOI9uUsS",
        "outputId": "64ee9ea8-1ca9-4e60-9a5e-cc8ff3ecfd1e"
      },
      "id": "nL_8dOI9uUsS",
      "execution_count": 110,
      "outputs": [
        {
          "output_type": "stream",
          "name": "stdout",
          "text": [
            "+----------+------------------+------------------+------------------+------------------+------------------+-----------------------+---------+\n",
            "|      Date|    Temperature(F)|       Humidity(%)|      Pressure(in)|    Visibility(mi)|   Wind_Speed(mph)|Weather_Condition_Index|Accidents|\n",
            "+----------+------------------+------------------+------------------+------------------+------------------+-----------------------+---------+\n",
            "|2016-01-14|              31.0|              69.0|             29.53|              10.0|               3.0|                    9.0|      7.0|\n",
            "|2016-02-08|35.355102040816305| 91.71428571428571| 29.64163265306123|6.7306122448979595|  6.36326530612245|     3.5714285714285716|     49.0|\n",
            "|2016-02-09|23.532203389830517| 87.11864406779661|29.679830508474573| 2.410169491525424|11.461016949152546|      5.728813559322034|     59.0|\n",
            "|2016-02-10|17.854347826086954| 77.17391304347827|  29.9086956521739| 3.823913043478261|13.147826086956524|      5.239130434782608|     46.0|\n",
            "|2016-02-11|15.974390243902443| 65.03658536585365|30.238414634146334| 9.213414634146341| 8.924390243902442|     2.5121951219512195|     82.0|\n",
            "|2016-02-12|19.205555555555552| 66.33333333333333|30.183888888888887| 8.416666666666666|15.927777777777784|      3.888888888888889|     18.0|\n",
            "|2016-02-13| 10.14285714285714|58.357142857142854|30.493571428571425|              10.0|11.935714285714287|     2.2857142857142856|     14.0|\n",
            "|2016-02-14|12.749999999999996|              79.6|            30.349|              6.31|              9.71|                    5.6|     10.0|\n",
            "|2016-02-15|  26.2764705882353| 91.05882352941177|30.002941176470586| 4.070588235294117| 6.529411764705882|      7.392156862745098|     51.0|\n",
            "|2016-02-16|  32.0367088607595| 90.69620253164557|29.745189873417715| 4.101898734177216|7.6113924050632935|     3.4430379746835444|     79.0|\n",
            "|2016-02-17| 30.89400000000001|             80.94|30.125999999999994|              6.05| 6.606000000000002|                   2.88|     50.0|\n",
            "|2016-02-18| 27.59019607843138| 68.56862745098039| 30.51725490196077| 9.117647058823529| 6.972549019607845|     1.0588235294117647|     51.0|\n",
            "|2016-02-19|51.168055555555554| 48.69444444444444|29.953333333333326|              10.0|           18.8375|     1.0833333333333333|     72.0|\n",
            "|2016-02-20|            61.275|              47.0|           30.0175|              10.0|              11.5|                    0.0|      4.0|\n",
            "|2016-02-21|48.166666666666664| 82.33333333333333|29.963333333333335| 6.833333333333333| 5.199999999999999|     3.3333333333333335|      6.0|\n",
            "|2016-02-22|36.507547169811325| 74.37735849056604|30.150377358490577|  9.88679245283019| 6.709433962264152|     1.5471698113207548|     53.0|\n",
            "|2016-02-23| 42.40526315789474|62.666666666666664|30.011403508771934|10.175438596491228| 9.024561403508768|     1.0350877192982457|     57.0|\n",
            "|2016-02-24| 42.52051282051282| 91.91025641025641| 29.36076923076923|5.4743589743589745|13.876923076923076|      5.576923076923077|     78.0|\n",
            "|2016-02-25| 32.39000000000001|              83.5|29.679600000000004| 5.571000000000001|            16.702|                    4.6|     50.0|\n",
            "|2016-02-26|            32.724|             55.32|30.237600000000008|               9.8| 9.648000000000001|                   1.48|     25.0|\n",
            "+----------+------------------+------------------+------------------+------------------+------------------+-----------------------+---------+\n",
            "only showing top 20 rows\n",
            "\n"
          ]
        }
      ]
    },
    {
      "cell_type": "code",
      "source": [
        "df_interest_countrywise.coalesce(1).write.csv(\"df_interest_countrywise.csv\", header=True, mode=\"overwrite\")"
      ],
      "metadata": {
        "id": "MZacwito6Feh"
      },
      "id": "MZacwito6Feh",
      "execution_count": 147,
      "outputs": []
    },
    {
      "cell_type": "code",
      "source": [
        "from pyspark.sql.functions import year\n",
        "\n",
        "# DataFrame para 2016 y 2017\n",
        "df_countrywise_16_17 = df_interest_countrywise.filter(year(\"Date\").isin([2016, 2017]))\n",
        "\n",
        "# DataFrame para 2018\n",
        "df_countrywise_18 = df_interest_countrywise.filter(year(\"Date\") == 2018)"
      ],
      "metadata": {
        "id": "EC0yYKYcuhYS"
      },
      "id": "EC0yYKYcuhYS",
      "execution_count": 95,
      "outputs": []
    },
    {
      "cell_type": "code",
      "source": [
        "df_countrywise_16_17.show(5)\n",
        "print(\"--------------------------------------\")\n",
        "print(\"--------------------------------------\")\n",
        "df_countrywise_18.show(5)"
      ],
      "metadata": {
        "colab": {
          "base_uri": "https://localhost:8080/"
        },
        "id": "6qtG4ljK1_Lk",
        "outputId": "c4a697b3-cb88-4d8d-aeeb-7b04eabb7061"
      },
      "id": "6qtG4ljK1_Lk",
      "execution_count": 127,
      "outputs": [
        {
          "output_type": "stream",
          "name": "stdout",
          "text": [
            "+----------+------------------+-----------------+------------------+------------------+------------------+-----------------------+---------+\n",
            "|      Date|    Temperature(F)|      Humidity(%)|      Pressure(in)|    Visibility(mi)|   Wind_Speed(mph)|Weather_Condition_Index|Accidents|\n",
            "+----------+------------------+-----------------+------------------+------------------+------------------+-----------------------+---------+\n",
            "|2016-01-14|              31.0|             69.0|             29.53|              10.0|               3.0|                    9.0|      7.0|\n",
            "|2016-02-08|35.355102040816305|91.71428571428571| 29.64163265306123|6.7306122448979595|  6.36326530612245|     3.5714285714285716|     49.0|\n",
            "|2016-02-09|23.532203389830517|87.11864406779661|29.679830508474573| 2.410169491525424|11.461016949152546|      5.728813559322034|     59.0|\n",
            "|2016-02-10|17.854347826086954|77.17391304347827|  29.9086956521739| 3.823913043478261|13.147826086956524|      5.239130434782608|     46.0|\n",
            "|2016-02-11|15.974390243902443|65.03658536585365|30.238414634146334| 9.213414634146341| 8.924390243902442|     2.5121951219512195|     82.0|\n",
            "+----------+------------------+-----------------+------------------+------------------+------------------+-----------------------+---------+\n",
            "only showing top 5 rows\n",
            "\n",
            "--------------------------------------\n",
            "--------------------------------------\n",
            "+----------+------------------+------------------+------------------+-----------------+------------------+-----------------------+---------+\n",
            "|      Date|    Temperature(F)|       Humidity(%)|      Pressure(in)|   Visibility(mi)|   Wind_Speed(mph)|Weather_Condition_Index|Accidents|\n",
            "+----------+------------------+------------------+------------------+-----------------+------------------+-----------------------+---------+\n",
            "|2018-01-01|20.592414664981025|59.175726927939316|30.443868520859656| 9.39393173198483| 9.082680151706727|      1.592920353982301|    791.0|\n",
            "|2018-01-02| 25.86051835853131| 57.48423326133909|  30.4007429805615|9.661814254859609| 8.957192224621977|     1.7982721382289417|   2315.0|\n",
            "|2018-01-03|30.434643008027088|58.506548373468526|30.165504858470634|8.347866497676383| 8.742289818335424|     2.6463878326996197|   2367.0|\n",
            "|2018-01-04|29.288078291814937|60.379359430604985|30.007128113878977| 8.15151245551602|10.956370106761492|      3.415302491103203|   2810.0|\n",
            "|2018-01-05| 29.37742566510168| 55.06298904538341| 30.21978873239433|9.475978090766821| 9.428951486697876|     2.0684663536776213|   2556.0|\n",
            "+----------+------------------+------------------+------------------+-----------------+------------------+-----------------------+---------+\n",
            "only showing top 5 rows\n",
            "\n"
          ]
        }
      ]
    },
    {
      "cell_type": "code",
      "source": [
        "# Creando X_train y Y_train Usando Pandas\n",
        "df_ordered = df_countrywise_16_17.orderBy(\"Date\")\n",
        "\n",
        "pdf = df_ordered.toPandas()\n",
        "\n",
        "# Extraemos las columnas numéricas y el numero de accidentes\n",
        "cols = [\"Temperature(F)\", \"Humidity(%)\", \"Pressure(in)\", \"Visibility(mi)\", \"Wind_Speed(mph)\", \"Weather_Condition_Index\", \"Accidents\"]\n",
        "\n",
        "dias = 7\n",
        "X, y = [], []\n",
        "for i in range(len(pdf) - dias):\n",
        "    X.append(pdf.loc[i:i+dias-1, cols].values)  # ventana 7 días\n",
        "    y.append(pdf.loc[i+dias, \"Accidents\"])      # día 8\n",
        "\n",
        "X_train, Y_train = np.array(X), np.array(y)"
      ],
      "metadata": {
        "id": "gnMLw7ZoqQ_b"
      },
      "id": "gnMLw7ZoqQ_b",
      "execution_count": 98,
      "outputs": []
    },
    {
      "cell_type": "code",
      "source": [
        "# Creando X_train y Y_train sin Pandas\n",
        "\n",
        "# Seleccionamos solo las columnas necesarias y las pasamos a numpy\n",
        "selected_cols = [\"Temperature(F)\", \"Humidity(%)\", \"Pressure(in)\",\n",
        "                 \"Visibility(mi)\", \"Wind_Speed(mph)\", \"Weather_Condition_Index\", \"Accidents\"]\n",
        "\n",
        "df_ordered = df_countrywise_16_17.orderBy(\"Date\")\n",
        "\n",
        "# Convertimos a un NumPy array (ordenado previamente)\n",
        "data_np = np.array(df_ordered.select(selected_cols).collect())\n",
        "\n",
        "# Ventana deslizante\n",
        "X_train = []\n",
        "Y_train = []\n",
        "dias = 7\n",
        "\n",
        "for i in range(len(data_np) - dias):\n",
        "    X_train.append(data_np[i:i+dias])       # 7 días de features\n",
        "    Y_train.append(data_np[i+dias, -1])     # accidentes del día siguiente\n",
        "\n",
        "X_train = np.array(X_train)  # shape: (num_samples, 7, 7)\n",
        "Y_train = np.array(Y_train)  # shape: (num_samples,)\n",
        "\n",
        "print(\"X_train shape:\", X_train.shape)\n",
        "print(\"Y_train shape:\", Y_train.shape)"
      ],
      "metadata": {
        "colab": {
          "base_uri": "https://localhost:8080/"
        },
        "id": "F2-qMksKq5en",
        "outputId": "b1fe4fe6-aca1-4198-9a59-6f36e58a9192"
      },
      "id": "F2-qMksKq5en",
      "execution_count": 117,
      "outputs": [
        {
          "output_type": "stream",
          "name": "stdout",
          "text": [
            "X_train shape: (683, 7, 7)\n",
            "Y_train shape: (683,)\n"
          ]
        }
      ]
    },
    {
      "cell_type": "code",
      "source": [
        "print(X_train[0])\n",
        "print(Y_train[0])"
      ],
      "metadata": {
        "colab": {
          "base_uri": "https://localhost:8080/"
        },
        "id": "DU3r5dUKsaqD",
        "outputId": "1cf812ee-83d0-44bf-8456-dbcfc0bac1b9"
      },
      "id": "DU3r5dUKsaqD",
      "execution_count": 118,
      "outputs": [
        {
          "output_type": "stream",
          "name": "stdout",
          "text": [
            "[[31.         69.         29.53       10.          3.          9.\n",
            "   7.        ]\n",
            " [35.35510204 91.71428571 29.64163265  6.73061224  6.36326531  3.57142857\n",
            "  49.        ]\n",
            " [23.53220339 87.11864407 29.67983051  2.41016949 11.46101695  5.72881356\n",
            "  59.        ]\n",
            " [17.85434783 77.17391304 29.90869565  3.82391304 13.14782609  5.23913043\n",
            "  46.        ]\n",
            " [15.97439024 65.03658537 30.23841463  9.21341463  8.92439024  2.51219512\n",
            "  82.        ]\n",
            " [19.20555556 66.33333333 30.18388889  8.41666667 15.92777778  3.88888889\n",
            "  18.        ]\n",
            " [10.14285714 58.35714286 30.49357143 10.         11.93571429  2.28571429\n",
            "  14.        ]]\n",
            "10.0\n"
          ]
        }
      ]
    },
    {
      "cell_type": "code",
      "source": [
        "# Creando X_test y Y_test sin Pandas\n",
        "\n",
        "# Seleccionamos solo las columnas necesarias y las pasamos a numpy\n",
        "selected_cols = [\"Temperature(F)\", \"Humidity(%)\", \"Pressure(in)\",\n",
        "                 \"Visibility(mi)\", \"Wind_Speed(mph)\", \"Weather_Condition_Index\", \"Accidents\"]\n",
        "\n",
        "df_ordered = df_countrywise_18.orderBy(\"Date\")\n",
        "\n",
        "# Convertimos a un NumPy array (ordenado previamente)\n",
        "data_np = np.array(df_ordered.select(selected_cols).collect())\n",
        "\n",
        "X_test = []\n",
        "Y_test = []\n",
        "dias = 7\n",
        "\n",
        "for i in range(len(data_np) - dias):\n",
        "    X_test.append(data_np[i:i+dias])       # 7 días de features\n",
        "    Y_test.append(data_np[i+dias, -1])\n",
        "\n",
        "X_test  = np.array(X_test)  # shape: (num_samples, 7, 7)\n",
        "Y_test  = np.array(Y_test)  # shape: (num_samples,)\n",
        "\n",
        "print(\"X_test shape:\", X_test.shape)\n",
        "print(\"Y_test shape:\", Y_test.shape)"
      ],
      "metadata": {
        "colab": {
          "base_uri": "https://localhost:8080/"
        },
        "id": "VX8A-qmV0RCu",
        "outputId": "b95732b0-c875-4759-b2cc-12174fdfcbee"
      },
      "id": "VX8A-qmV0RCu",
      "execution_count": 130,
      "outputs": [
        {
          "output_type": "stream",
          "name": "stdout",
          "text": [
            "X_test shape: (358, 7, 7)\n",
            "Y_test shape: (358,)\n"
          ]
        }
      ]
    },
    {
      "cell_type": "code",
      "source": [
        "print(X_test[0])\n",
        "print(Y_test[0])"
      ],
      "metadata": {
        "colab": {
          "base_uri": "https://localhost:8080/"
        },
        "id": "PMUiYKJp2h3x",
        "outputId": "ad5bd3c4-fc71-4bd4-b461-866e797fd2ce"
      },
      "id": "PMUiYKJp2h3x",
      "execution_count": 133,
      "outputs": [
        {
          "output_type": "stream",
          "name": "stdout",
          "text": [
            "[[  20.59241466   59.17572693   30.44386852    9.39393173    9.08268015\n",
            "     1.59292035  791.        ]\n",
            " [  25.86051836   57.48423326   30.40074298    9.66181425    8.95719222\n",
            "     1.79827214 2315.        ]\n",
            " [  30.43464301   58.50654837   30.16550486    8.3478665     8.74228982\n",
            "     2.64638783 2367.        ]\n",
            " [  29.28807829   60.37935943   30.00712811    8.15151246   10.95637011\n",
            "     3.41530249 2810.        ]\n",
            " [  29.37742567   55.06298905   30.21978873    9.47597809    9.42895149\n",
            "     2.06846635 2556.        ]\n",
            " [  36.73136531   59.40405904   30.31348708    9.249631      8.68874539\n",
            "     2.32472325  542.        ]\n",
            " [  37.85850622   64.20539419   30.21987552    9.19377593    9.00767635\n",
            "     2.2219917   482.        ]]\n",
            "2860.0\n"
          ]
        }
      ]
    },
    {
      "cell_type": "markdown",
      "source": [
        "Ahora vamos a entrenar un regresor de XGboost."
      ],
      "metadata": {
        "id": "RXiXV0Fc0Mlu"
      },
      "id": "RXiXV0Fc0Mlu"
    },
    {
      "cell_type": "code",
      "source": [
        "!pip install xgboost"
      ],
      "metadata": {
        "colab": {
          "base_uri": "https://localhost:8080/"
        },
        "id": "gcek_5EP0L2v",
        "outputId": "82806c04-cee9-4693-9d5c-3ca8601e8c8c"
      },
      "id": "gcek_5EP0L2v",
      "execution_count": 120,
      "outputs": [
        {
          "output_type": "stream",
          "name": "stdout",
          "text": [
            "Requirement already satisfied: xgboost in /usr/local/lib/python3.11/dist-packages (2.1.4)\n",
            "Requirement already satisfied: numpy in /usr/local/lib/python3.11/dist-packages (from xgboost) (2.0.2)\n",
            "Requirement already satisfied: nvidia-nccl-cu12 in /usr/local/lib/python3.11/dist-packages (from xgboost) (2.21.5)\n",
            "Requirement already satisfied: scipy in /usr/local/lib/python3.11/dist-packages (from xgboost) (1.15.3)\n"
          ]
        }
      ]
    },
    {
      "cell_type": "code",
      "source": [
        "import xgboost as xgb\n",
        "\n",
        "X_train_flat = X_train.reshape(X_train.shape[0], -1)\n",
        "X_test_flat = X_test.reshape(X_test.shape[0], -1)\n",
        "\n",
        "model_countrywise = xgb.XGBRegressor()\n",
        "model_countrywise.fit(X_train_flat, Y_train)"
      ],
      "metadata": {
        "colab": {
          "base_uri": "https://localhost:8080/",
          "height": 253
        },
        "id": "pY6IGWfB0vrm",
        "outputId": "2c89b024-a7f4-40a0-98ec-c722c036af19"
      },
      "id": "pY6IGWfB0vrm",
      "execution_count": 143,
      "outputs": [
        {
          "output_type": "execute_result",
          "data": {
            "text/plain": [
              "XGBRegressor(base_score=None, booster=None, callbacks=None,\n",
              "             colsample_bylevel=None, colsample_bynode=None,\n",
              "             colsample_bytree=None, device=None, early_stopping_rounds=None,\n",
              "             enable_categorical=False, eval_metric=None, feature_types=None,\n",
              "             gamma=None, grow_policy=None, importance_type=None,\n",
              "             interaction_constraints=None, learning_rate=None, max_bin=None,\n",
              "             max_cat_threshold=None, max_cat_to_onehot=None,\n",
              "             max_delta_step=None, max_depth=None, max_leaves=None,\n",
              "             min_child_weight=None, missing=nan, monotone_constraints=None,\n",
              "             multi_strategy=None, n_estimators=None, n_jobs=None,\n",
              "             num_parallel_tree=None, random_state=None, ...)"
            ],
            "text/html": [
              "<style>#sk-container-id-3 {\n",
              "  /* Definition of color scheme common for light and dark mode */\n",
              "  --sklearn-color-text: #000;\n",
              "  --sklearn-color-text-muted: #666;\n",
              "  --sklearn-color-line: gray;\n",
              "  /* Definition of color scheme for unfitted estimators */\n",
              "  --sklearn-color-unfitted-level-0: #fff5e6;\n",
              "  --sklearn-color-unfitted-level-1: #f6e4d2;\n",
              "  --sklearn-color-unfitted-level-2: #ffe0b3;\n",
              "  --sklearn-color-unfitted-level-3: chocolate;\n",
              "  /* Definition of color scheme for fitted estimators */\n",
              "  --sklearn-color-fitted-level-0: #f0f8ff;\n",
              "  --sklearn-color-fitted-level-1: #d4ebff;\n",
              "  --sklearn-color-fitted-level-2: #b3dbfd;\n",
              "  --sklearn-color-fitted-level-3: cornflowerblue;\n",
              "\n",
              "  /* Specific color for light theme */\n",
              "  --sklearn-color-text-on-default-background: var(--sg-text-color, var(--theme-code-foreground, var(--jp-content-font-color1, black)));\n",
              "  --sklearn-color-background: var(--sg-background-color, var(--theme-background, var(--jp-layout-color0, white)));\n",
              "  --sklearn-color-border-box: var(--sg-text-color, var(--theme-code-foreground, var(--jp-content-font-color1, black)));\n",
              "  --sklearn-color-icon: #696969;\n",
              "\n",
              "  @media (prefers-color-scheme: dark) {\n",
              "    /* Redefinition of color scheme for dark theme */\n",
              "    --sklearn-color-text-on-default-background: var(--sg-text-color, var(--theme-code-foreground, var(--jp-content-font-color1, white)));\n",
              "    --sklearn-color-background: var(--sg-background-color, var(--theme-background, var(--jp-layout-color0, #111)));\n",
              "    --sklearn-color-border-box: var(--sg-text-color, var(--theme-code-foreground, var(--jp-content-font-color1, white)));\n",
              "    --sklearn-color-icon: #878787;\n",
              "  }\n",
              "}\n",
              "\n",
              "#sk-container-id-3 {\n",
              "  color: var(--sklearn-color-text);\n",
              "}\n",
              "\n",
              "#sk-container-id-3 pre {\n",
              "  padding: 0;\n",
              "}\n",
              "\n",
              "#sk-container-id-3 input.sk-hidden--visually {\n",
              "  border: 0;\n",
              "  clip: rect(1px 1px 1px 1px);\n",
              "  clip: rect(1px, 1px, 1px, 1px);\n",
              "  height: 1px;\n",
              "  margin: -1px;\n",
              "  overflow: hidden;\n",
              "  padding: 0;\n",
              "  position: absolute;\n",
              "  width: 1px;\n",
              "}\n",
              "\n",
              "#sk-container-id-3 div.sk-dashed-wrapped {\n",
              "  border: 1px dashed var(--sklearn-color-line);\n",
              "  margin: 0 0.4em 0.5em 0.4em;\n",
              "  box-sizing: border-box;\n",
              "  padding-bottom: 0.4em;\n",
              "  background-color: var(--sklearn-color-background);\n",
              "}\n",
              "\n",
              "#sk-container-id-3 div.sk-container {\n",
              "  /* jupyter's `normalize.less` sets `[hidden] { display: none; }`\n",
              "     but bootstrap.min.css set `[hidden] { display: none !important; }`\n",
              "     so we also need the `!important` here to be able to override the\n",
              "     default hidden behavior on the sphinx rendered scikit-learn.org.\n",
              "     See: https://github.com/scikit-learn/scikit-learn/issues/21755 */\n",
              "  display: inline-block !important;\n",
              "  position: relative;\n",
              "}\n",
              "\n",
              "#sk-container-id-3 div.sk-text-repr-fallback {\n",
              "  display: none;\n",
              "}\n",
              "\n",
              "div.sk-parallel-item,\n",
              "div.sk-serial,\n",
              "div.sk-item {\n",
              "  /* draw centered vertical line to link estimators */\n",
              "  background-image: linear-gradient(var(--sklearn-color-text-on-default-background), var(--sklearn-color-text-on-default-background));\n",
              "  background-size: 2px 100%;\n",
              "  background-repeat: no-repeat;\n",
              "  background-position: center center;\n",
              "}\n",
              "\n",
              "/* Parallel-specific style estimator block */\n",
              "\n",
              "#sk-container-id-3 div.sk-parallel-item::after {\n",
              "  content: \"\";\n",
              "  width: 100%;\n",
              "  border-bottom: 2px solid var(--sklearn-color-text-on-default-background);\n",
              "  flex-grow: 1;\n",
              "}\n",
              "\n",
              "#sk-container-id-3 div.sk-parallel {\n",
              "  display: flex;\n",
              "  align-items: stretch;\n",
              "  justify-content: center;\n",
              "  background-color: var(--sklearn-color-background);\n",
              "  position: relative;\n",
              "}\n",
              "\n",
              "#sk-container-id-3 div.sk-parallel-item {\n",
              "  display: flex;\n",
              "  flex-direction: column;\n",
              "}\n",
              "\n",
              "#sk-container-id-3 div.sk-parallel-item:first-child::after {\n",
              "  align-self: flex-end;\n",
              "  width: 50%;\n",
              "}\n",
              "\n",
              "#sk-container-id-3 div.sk-parallel-item:last-child::after {\n",
              "  align-self: flex-start;\n",
              "  width: 50%;\n",
              "}\n",
              "\n",
              "#sk-container-id-3 div.sk-parallel-item:only-child::after {\n",
              "  width: 0;\n",
              "}\n",
              "\n",
              "/* Serial-specific style estimator block */\n",
              "\n",
              "#sk-container-id-3 div.sk-serial {\n",
              "  display: flex;\n",
              "  flex-direction: column;\n",
              "  align-items: center;\n",
              "  background-color: var(--sklearn-color-background);\n",
              "  padding-right: 1em;\n",
              "  padding-left: 1em;\n",
              "}\n",
              "\n",
              "\n",
              "/* Toggleable style: style used for estimator/Pipeline/ColumnTransformer box that is\n",
              "clickable and can be expanded/collapsed.\n",
              "- Pipeline and ColumnTransformer use this feature and define the default style\n",
              "- Estimators will overwrite some part of the style using the `sk-estimator` class\n",
              "*/\n",
              "\n",
              "/* Pipeline and ColumnTransformer style (default) */\n",
              "\n",
              "#sk-container-id-3 div.sk-toggleable {\n",
              "  /* Default theme specific background. It is overwritten whether we have a\n",
              "  specific estimator or a Pipeline/ColumnTransformer */\n",
              "  background-color: var(--sklearn-color-background);\n",
              "}\n",
              "\n",
              "/* Toggleable label */\n",
              "#sk-container-id-3 label.sk-toggleable__label {\n",
              "  cursor: pointer;\n",
              "  display: flex;\n",
              "  width: 100%;\n",
              "  margin-bottom: 0;\n",
              "  padding: 0.5em;\n",
              "  box-sizing: border-box;\n",
              "  text-align: center;\n",
              "  align-items: start;\n",
              "  justify-content: space-between;\n",
              "  gap: 0.5em;\n",
              "}\n",
              "\n",
              "#sk-container-id-3 label.sk-toggleable__label .caption {\n",
              "  font-size: 0.6rem;\n",
              "  font-weight: lighter;\n",
              "  color: var(--sklearn-color-text-muted);\n",
              "}\n",
              "\n",
              "#sk-container-id-3 label.sk-toggleable__label-arrow:before {\n",
              "  /* Arrow on the left of the label */\n",
              "  content: \"▸\";\n",
              "  float: left;\n",
              "  margin-right: 0.25em;\n",
              "  color: var(--sklearn-color-icon);\n",
              "}\n",
              "\n",
              "#sk-container-id-3 label.sk-toggleable__label-arrow:hover:before {\n",
              "  color: var(--sklearn-color-text);\n",
              "}\n",
              "\n",
              "/* Toggleable content - dropdown */\n",
              "\n",
              "#sk-container-id-3 div.sk-toggleable__content {\n",
              "  max-height: 0;\n",
              "  max-width: 0;\n",
              "  overflow: hidden;\n",
              "  text-align: left;\n",
              "  /* unfitted */\n",
              "  background-color: var(--sklearn-color-unfitted-level-0);\n",
              "}\n",
              "\n",
              "#sk-container-id-3 div.sk-toggleable__content.fitted {\n",
              "  /* fitted */\n",
              "  background-color: var(--sklearn-color-fitted-level-0);\n",
              "}\n",
              "\n",
              "#sk-container-id-3 div.sk-toggleable__content pre {\n",
              "  margin: 0.2em;\n",
              "  border-radius: 0.25em;\n",
              "  color: var(--sklearn-color-text);\n",
              "  /* unfitted */\n",
              "  background-color: var(--sklearn-color-unfitted-level-0);\n",
              "}\n",
              "\n",
              "#sk-container-id-3 div.sk-toggleable__content.fitted pre {\n",
              "  /* unfitted */\n",
              "  background-color: var(--sklearn-color-fitted-level-0);\n",
              "}\n",
              "\n",
              "#sk-container-id-3 input.sk-toggleable__control:checked~div.sk-toggleable__content {\n",
              "  /* Expand drop-down */\n",
              "  max-height: 200px;\n",
              "  max-width: 100%;\n",
              "  overflow: auto;\n",
              "}\n",
              "\n",
              "#sk-container-id-3 input.sk-toggleable__control:checked~label.sk-toggleable__label-arrow:before {\n",
              "  content: \"▾\";\n",
              "}\n",
              "\n",
              "/* Pipeline/ColumnTransformer-specific style */\n",
              "\n",
              "#sk-container-id-3 div.sk-label input.sk-toggleable__control:checked~label.sk-toggleable__label {\n",
              "  color: var(--sklearn-color-text);\n",
              "  background-color: var(--sklearn-color-unfitted-level-2);\n",
              "}\n",
              "\n",
              "#sk-container-id-3 div.sk-label.fitted input.sk-toggleable__control:checked~label.sk-toggleable__label {\n",
              "  background-color: var(--sklearn-color-fitted-level-2);\n",
              "}\n",
              "\n",
              "/* Estimator-specific style */\n",
              "\n",
              "/* Colorize estimator box */\n",
              "#sk-container-id-3 div.sk-estimator input.sk-toggleable__control:checked~label.sk-toggleable__label {\n",
              "  /* unfitted */\n",
              "  background-color: var(--sklearn-color-unfitted-level-2);\n",
              "}\n",
              "\n",
              "#sk-container-id-3 div.sk-estimator.fitted input.sk-toggleable__control:checked~label.sk-toggleable__label {\n",
              "  /* fitted */\n",
              "  background-color: var(--sklearn-color-fitted-level-2);\n",
              "}\n",
              "\n",
              "#sk-container-id-3 div.sk-label label.sk-toggleable__label,\n",
              "#sk-container-id-3 div.sk-label label {\n",
              "  /* The background is the default theme color */\n",
              "  color: var(--sklearn-color-text-on-default-background);\n",
              "}\n",
              "\n",
              "/* On hover, darken the color of the background */\n",
              "#sk-container-id-3 div.sk-label:hover label.sk-toggleable__label {\n",
              "  color: var(--sklearn-color-text);\n",
              "  background-color: var(--sklearn-color-unfitted-level-2);\n",
              "}\n",
              "\n",
              "/* Label box, darken color on hover, fitted */\n",
              "#sk-container-id-3 div.sk-label.fitted:hover label.sk-toggleable__label.fitted {\n",
              "  color: var(--sklearn-color-text);\n",
              "  background-color: var(--sklearn-color-fitted-level-2);\n",
              "}\n",
              "\n",
              "/* Estimator label */\n",
              "\n",
              "#sk-container-id-3 div.sk-label label {\n",
              "  font-family: monospace;\n",
              "  font-weight: bold;\n",
              "  display: inline-block;\n",
              "  line-height: 1.2em;\n",
              "}\n",
              "\n",
              "#sk-container-id-3 div.sk-label-container {\n",
              "  text-align: center;\n",
              "}\n",
              "\n",
              "/* Estimator-specific */\n",
              "#sk-container-id-3 div.sk-estimator {\n",
              "  font-family: monospace;\n",
              "  border: 1px dotted var(--sklearn-color-border-box);\n",
              "  border-radius: 0.25em;\n",
              "  box-sizing: border-box;\n",
              "  margin-bottom: 0.5em;\n",
              "  /* unfitted */\n",
              "  background-color: var(--sklearn-color-unfitted-level-0);\n",
              "}\n",
              "\n",
              "#sk-container-id-3 div.sk-estimator.fitted {\n",
              "  /* fitted */\n",
              "  background-color: var(--sklearn-color-fitted-level-0);\n",
              "}\n",
              "\n",
              "/* on hover */\n",
              "#sk-container-id-3 div.sk-estimator:hover {\n",
              "  /* unfitted */\n",
              "  background-color: var(--sklearn-color-unfitted-level-2);\n",
              "}\n",
              "\n",
              "#sk-container-id-3 div.sk-estimator.fitted:hover {\n",
              "  /* fitted */\n",
              "  background-color: var(--sklearn-color-fitted-level-2);\n",
              "}\n",
              "\n",
              "/* Specification for estimator info (e.g. \"i\" and \"?\") */\n",
              "\n",
              "/* Common style for \"i\" and \"?\" */\n",
              "\n",
              ".sk-estimator-doc-link,\n",
              "a:link.sk-estimator-doc-link,\n",
              "a:visited.sk-estimator-doc-link {\n",
              "  float: right;\n",
              "  font-size: smaller;\n",
              "  line-height: 1em;\n",
              "  font-family: monospace;\n",
              "  background-color: var(--sklearn-color-background);\n",
              "  border-radius: 1em;\n",
              "  height: 1em;\n",
              "  width: 1em;\n",
              "  text-decoration: none !important;\n",
              "  margin-left: 0.5em;\n",
              "  text-align: center;\n",
              "  /* unfitted */\n",
              "  border: var(--sklearn-color-unfitted-level-1) 1pt solid;\n",
              "  color: var(--sklearn-color-unfitted-level-1);\n",
              "}\n",
              "\n",
              ".sk-estimator-doc-link.fitted,\n",
              "a:link.sk-estimator-doc-link.fitted,\n",
              "a:visited.sk-estimator-doc-link.fitted {\n",
              "  /* fitted */\n",
              "  border: var(--sklearn-color-fitted-level-1) 1pt solid;\n",
              "  color: var(--sklearn-color-fitted-level-1);\n",
              "}\n",
              "\n",
              "/* On hover */\n",
              "div.sk-estimator:hover .sk-estimator-doc-link:hover,\n",
              ".sk-estimator-doc-link:hover,\n",
              "div.sk-label-container:hover .sk-estimator-doc-link:hover,\n",
              ".sk-estimator-doc-link:hover {\n",
              "  /* unfitted */\n",
              "  background-color: var(--sklearn-color-unfitted-level-3);\n",
              "  color: var(--sklearn-color-background);\n",
              "  text-decoration: none;\n",
              "}\n",
              "\n",
              "div.sk-estimator.fitted:hover .sk-estimator-doc-link.fitted:hover,\n",
              ".sk-estimator-doc-link.fitted:hover,\n",
              "div.sk-label-container:hover .sk-estimator-doc-link.fitted:hover,\n",
              ".sk-estimator-doc-link.fitted:hover {\n",
              "  /* fitted */\n",
              "  background-color: var(--sklearn-color-fitted-level-3);\n",
              "  color: var(--sklearn-color-background);\n",
              "  text-decoration: none;\n",
              "}\n",
              "\n",
              "/* Span, style for the box shown on hovering the info icon */\n",
              ".sk-estimator-doc-link span {\n",
              "  display: none;\n",
              "  z-index: 9999;\n",
              "  position: relative;\n",
              "  font-weight: normal;\n",
              "  right: .2ex;\n",
              "  padding: .5ex;\n",
              "  margin: .5ex;\n",
              "  width: min-content;\n",
              "  min-width: 20ex;\n",
              "  max-width: 50ex;\n",
              "  color: var(--sklearn-color-text);\n",
              "  box-shadow: 2pt 2pt 4pt #999;\n",
              "  /* unfitted */\n",
              "  background: var(--sklearn-color-unfitted-level-0);\n",
              "  border: .5pt solid var(--sklearn-color-unfitted-level-3);\n",
              "}\n",
              "\n",
              ".sk-estimator-doc-link.fitted span {\n",
              "  /* fitted */\n",
              "  background: var(--sklearn-color-fitted-level-0);\n",
              "  border: var(--sklearn-color-fitted-level-3);\n",
              "}\n",
              "\n",
              ".sk-estimator-doc-link:hover span {\n",
              "  display: block;\n",
              "}\n",
              "\n",
              "/* \"?\"-specific style due to the `<a>` HTML tag */\n",
              "\n",
              "#sk-container-id-3 a.estimator_doc_link {\n",
              "  float: right;\n",
              "  font-size: 1rem;\n",
              "  line-height: 1em;\n",
              "  font-family: monospace;\n",
              "  background-color: var(--sklearn-color-background);\n",
              "  border-radius: 1rem;\n",
              "  height: 1rem;\n",
              "  width: 1rem;\n",
              "  text-decoration: none;\n",
              "  /* unfitted */\n",
              "  color: var(--sklearn-color-unfitted-level-1);\n",
              "  border: var(--sklearn-color-unfitted-level-1) 1pt solid;\n",
              "}\n",
              "\n",
              "#sk-container-id-3 a.estimator_doc_link.fitted {\n",
              "  /* fitted */\n",
              "  border: var(--sklearn-color-fitted-level-1) 1pt solid;\n",
              "  color: var(--sklearn-color-fitted-level-1);\n",
              "}\n",
              "\n",
              "/* On hover */\n",
              "#sk-container-id-3 a.estimator_doc_link:hover {\n",
              "  /* unfitted */\n",
              "  background-color: var(--sklearn-color-unfitted-level-3);\n",
              "  color: var(--sklearn-color-background);\n",
              "  text-decoration: none;\n",
              "}\n",
              "\n",
              "#sk-container-id-3 a.estimator_doc_link.fitted:hover {\n",
              "  /* fitted */\n",
              "  background-color: var(--sklearn-color-fitted-level-3);\n",
              "}\n",
              "</style><div id=\"sk-container-id-3\" class=\"sk-top-container\"><div class=\"sk-text-repr-fallback\"><pre>XGBRegressor(base_score=None, booster=None, callbacks=None,\n",
              "             colsample_bylevel=None, colsample_bynode=None,\n",
              "             colsample_bytree=None, device=None, early_stopping_rounds=None,\n",
              "             enable_categorical=False, eval_metric=None, feature_types=None,\n",
              "             gamma=None, grow_policy=None, importance_type=None,\n",
              "             interaction_constraints=None, learning_rate=None, max_bin=None,\n",
              "             max_cat_threshold=None, max_cat_to_onehot=None,\n",
              "             max_delta_step=None, max_depth=None, max_leaves=None,\n",
              "             min_child_weight=None, missing=nan, monotone_constraints=None,\n",
              "             multi_strategy=None, n_estimators=None, n_jobs=None,\n",
              "             num_parallel_tree=None, random_state=None, ...)</pre><b>In a Jupyter environment, please rerun this cell to show the HTML representation or trust the notebook. <br />On GitHub, the HTML representation is unable to render, please try loading this page with nbviewer.org.</b></div><div class=\"sk-container\" hidden><div class=\"sk-item\"><div class=\"sk-estimator fitted sk-toggleable\"><input class=\"sk-toggleable__control sk-hidden--visually\" id=\"sk-estimator-id-3\" type=\"checkbox\" checked><label for=\"sk-estimator-id-3\" class=\"sk-toggleable__label fitted sk-toggleable__label-arrow\"><div><div>XGBRegressor</div></div><div><span class=\"sk-estimator-doc-link fitted\">i<span>Fitted</span></span></div></label><div class=\"sk-toggleable__content fitted\"><pre>XGBRegressor(base_score=None, booster=None, callbacks=None,\n",
              "             colsample_bylevel=None, colsample_bynode=None,\n",
              "             colsample_bytree=None, device=None, early_stopping_rounds=None,\n",
              "             enable_categorical=False, eval_metric=None, feature_types=None,\n",
              "             gamma=None, grow_policy=None, importance_type=None,\n",
              "             interaction_constraints=None, learning_rate=None, max_bin=None,\n",
              "             max_cat_threshold=None, max_cat_to_onehot=None,\n",
              "             max_delta_step=None, max_depth=None, max_leaves=None,\n",
              "             min_child_weight=None, missing=nan, monotone_constraints=None,\n",
              "             multi_strategy=None, n_estimators=None, n_jobs=None,\n",
              "             num_parallel_tree=None, random_state=None, ...)</pre></div> </div></div></div></div>"
            ]
          },
          "metadata": {},
          "execution_count": 143
        }
      ]
    },
    {
      "cell_type": "code",
      "source": [
        "from sklearn.metrics import mean_squared_error, mean_absolute_error\n",
        "\n",
        "y_pred = model_countrywise.predict(X_test_flat)\n",
        "\n",
        "mse = mean_squared_error(Y_test, y_pred)\n",
        "mae = mean_absolute_error(Y_test, y_pred)\n",
        "\n",
        "print(f\"MSE: {mse:.2f}\")\n",
        "print(f\"MAE: {mae:.2f}\")"
      ],
      "metadata": {
        "colab": {
          "base_uri": "https://localhost:8080/"
        },
        "id": "AUuBm9tr1iXB",
        "outputId": "41d03bcb-8b05-4677-d93a-8e4351183b89"
      },
      "id": "AUuBm9tr1iXB",
      "execution_count": 144,
      "outputs": [
        {
          "output_type": "stream",
          "name": "stdout",
          "text": [
            "MSE: 307735.28\n",
            "MAE: 369.21\n"
          ]
        }
      ]
    },
    {
      "cell_type": "code",
      "source": [
        "print(y_pred[0])\n",
        "print(Y_test[0])"
      ],
      "metadata": {
        "colab": {
          "base_uri": "https://localhost:8080/"
        },
        "id": "Nvqh0vUx58Ge",
        "outputId": "0aa9f1d5-1a55-40c1-bb6c-ba977da1dd94"
      },
      "id": "Nvqh0vUx58Ge",
      "execution_count": 145,
      "outputs": [
        {
          "output_type": "stream",
          "name": "stdout",
          "text": [
            "512.4607\n",
            "2860.0\n"
          ]
        }
      ]
    },
    {
      "cell_type": "code",
      "source": [
        "import matplotlib.pyplot as plt\n",
        "\n",
        "# Convertir columnas 'Date' a tipo fecha en Spark (si no lo has hecho ya)\n",
        "from pyspark.sql.functions import to_date\n",
        "\n",
        "df_train = df_countrywise_16_17.withColumn(\"Date\", to_date(\"Date\"))\n",
        "df_test = df_countrywise_18.withColumn(\"Date\", to_date(\"Date\"))\n",
        "\n",
        "# Convertir a Pandas para graficar\n",
        "pdf_train = df_train.select(\"Date\", \"Accidents\").orderBy(\"Date\").toPandas()\n",
        "pdf_test = df_test.select(\"Date\", \"Accidents\").orderBy(\"Date\").toPandas()\n",
        "\n",
        "# Asegurar que las fechas sean tipo datetime en pandas\n",
        "pdf_train[\"Date\"] = pd.to_datetime(pdf_train[\"Date\"])\n",
        "pdf_test[\"Date\"] = pd.to_datetime(pdf_test[\"Date\"])\n",
        "\n",
        "# Graficar\n",
        "plt.figure(figsize=(12, 4))\n",
        "plt.plot(pdf_train[\"Date\"], pdf_train[\"Accidents\"], label=\"Train (2016–2017)\")\n",
        "plt.plot(pdf_test[\"Date\"], pdf_test[\"Accidents\"], label=\"Test (2018)\")\n",
        "plt.legend()\n",
        "plt.title(\"Accidents over time\")\n",
        "plt.xlabel(\"Date\")\n",
        "plt.ylabel(\"Accidents\")\n",
        "plt.tight_layout()\n",
        "plt.show()"
      ],
      "metadata": {
        "colab": {
          "base_uri": "https://localhost:8080/",
          "height": 407
        },
        "id": "eBjqmCLk8fJi",
        "outputId": "18153fed-0922-4a53-83e2-77abf916b8b5"
      },
      "id": "eBjqmCLk8fJi",
      "execution_count": 148,
      "outputs": [
        {
          "output_type": "display_data",
          "data": {
            "text/plain": [
              "<Figure size 1200x400 with 1 Axes>"
            ],
            "image/png": "[encoded data removed]"
          },
          "metadata": {}
        }
      ]
    }
  ],
  "metadata": {
    "kernelspec": {
      "display_name": "Python 3",
      "language": "python",
      "name": "python3"
    },
    "language_info": {
      "codemirror_mode": {
        "name": "ipython",
        "version": 3
      },
      "file_extension": ".py",
      "mimetype": "text/x-python",
      "name": "python",
      "nbconvert_exporter": "python",
      "pygments_lexer": "ipython3",
      "version": "3.12.6"
    },
    "colab": {
      "provenance": []
    }
  },
  "nbformat": 4,
  "nbformat_minor": 5
}