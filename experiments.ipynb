{
 "cells": [
  {
   "cell_type": "code",
   "execution_count": 7,
   "id": "cda65ac6",
   "metadata": {},
   "outputs": [],
   "source": [
    "import pandas as pd\n",
    "import xgboost as xgb\n",
    "from sklearn.model_selection import train_test_split\n",
    "from sklearn.metrics import mean_absolute_error\n",
    "from sklearn.preprocessing import LabelEncoder\n",
    "import os\n",
    "\n",
    "# Carga el parquet del 2016\n",
    "df = pd.read_parquet(\"/workspace/ADGE_project/datasets/daily_accidents_2016.parquet\")\n"
   ]
  },
  {
   "cell_type": "code",
   "execution_count": 21,
   "id": "ef25f3c4",
   "metadata": {},
   "outputs": [
    {
     "data": {
      "text/plain": [
       "Index(['Date', 'City', 'State', 'Year', 'Daily_Accidents',\n",
       "       'Avg_Temperature(F)', 'Avg_Wind_Chill(F)', 'Avg_Humidity(%)',\n",
       "       'Avg_Pressure(in)', 'Avg_Visibility(mi)', 'Avg_Wind_Speed(mph)',\n",
       "       'Avg_Precipitation(in)'],\n",
       "      dtype='object')"
      ]
     },
     "execution_count": 21,
     "metadata": {},
     "output_type": "execute_result"
    }
   ],
   "source": [
    "df.columns"
   ]
  },
  {
   "cell_type": "code",
   "execution_count": 24,
   "id": "4c855e0e",
   "metadata": {},
   "outputs": [
    {
     "data": {
      "text/html": [
       "<div>\n",
       "<style scoped>\n",
       "    .dataframe tbody tr th:only-of-type {\n",
       "        vertical-align: middle;\n",
       "    }\n",
       "\n",
       "    .dataframe tbody tr th {\n",
       "        vertical-align: top;\n",
       "    }\n",
       "\n",
       "    .dataframe thead th {\n",
       "        text-align: right;\n",
       "    }\n",
       "</style>\n",
       "<table border=\"1\" class=\"dataframe\">\n",
       "  <thead>\n",
       "    <tr style=\"text-align: right;\">\n",
       "      <th></th>\n",
       "      <th>Date</th>\n",
       "      <th>City</th>\n",
       "      <th>State</th>\n",
       "      <th>Year</th>\n",
       "      <th>Daily_Accidents</th>\n",
       "      <th>Avg_Temperature(F)</th>\n",
       "      <th>Avg_Wind_Chill(F)</th>\n",
       "      <th>Avg_Humidity(%)</th>\n",
       "      <th>Avg_Pressure(in)</th>\n",
       "      <th>Avg_Visibility(mi)</th>\n",
       "      <th>Avg_Wind_Speed(mph)</th>\n",
       "      <th>Avg_Precipitation(in)</th>\n",
       "    </tr>\n",
       "  </thead>\n",
       "  <tbody>\n",
       "    <tr>\n",
       "      <th>0</th>\n",
       "      <td>2021-01-01</td>\n",
       "      <td>Airville</td>\n",
       "      <td>PA</td>\n",
       "      <td>2021</td>\n",
       "      <td>1</td>\n",
       "      <td>30.000000</td>\n",
       "      <td>24.000000</td>\n",
       "      <td>72.000000</td>\n",
       "      <td>30.000000</td>\n",
       "      <td>10.00</td>\n",
       "      <td>6.000000</td>\n",
       "      <td>0.000000</td>\n",
       "    </tr>\n",
       "    <tr>\n",
       "      <th>1</th>\n",
       "      <td>2021-01-01</td>\n",
       "      <td>Bay Minette</td>\n",
       "      <td>AL</td>\n",
       "      <td>2021</td>\n",
       "      <td>1</td>\n",
       "      <td>68.000000</td>\n",
       "      <td>68.000000</td>\n",
       "      <td>90.000000</td>\n",
       "      <td>29.890000</td>\n",
       "      <td>10.00</td>\n",
       "      <td>6.000000</td>\n",
       "      <td>0.010000</td>\n",
       "    </tr>\n",
       "    <tr>\n",
       "      <th>2</th>\n",
       "      <td>2021-01-01</td>\n",
       "      <td>Bloomfield</td>\n",
       "      <td>IN</td>\n",
       "      <td>2021</td>\n",
       "      <td>3</td>\n",
       "      <td>39.333333</td>\n",
       "      <td>35.000000</td>\n",
       "      <td>91.000000</td>\n",
       "      <td>28.893333</td>\n",
       "      <td>1.25</td>\n",
       "      <td>7.333333</td>\n",
       "      <td>0.026667</td>\n",
       "    </tr>\n",
       "    <tr>\n",
       "      <th>3</th>\n",
       "      <td>2021-01-01</td>\n",
       "      <td>Caldwell</td>\n",
       "      <td>ID</td>\n",
       "      <td>2021</td>\n",
       "      <td>8</td>\n",
       "      <td>37.000000</td>\n",
       "      <td>32.000000</td>\n",
       "      <td>79.000000</td>\n",
       "      <td>27.710000</td>\n",
       "      <td>10.00</td>\n",
       "      <td>7.000000</td>\n",
       "      <td>0.000000</td>\n",
       "    </tr>\n",
       "    <tr>\n",
       "      <th>4</th>\n",
       "      <td>2021-01-01</td>\n",
       "      <td>Clermont</td>\n",
       "      <td>FL</td>\n",
       "      <td>2021</td>\n",
       "      <td>3</td>\n",
       "      <td>69.333333</td>\n",
       "      <td>69.333333</td>\n",
       "      <td>90.333333</td>\n",
       "      <td>30.060000</td>\n",
       "      <td>10.00</td>\n",
       "      <td>6.333333</td>\n",
       "      <td>0.000000</td>\n",
       "    </tr>\n",
       "  </tbody>\n",
       "</table>\n",
       "</div>"
      ],
      "text/plain": [
       "         Date         City State  Year  Daily_Accidents  Avg_Temperature(F)  \\\n",
       "0  2021-01-01     Airville    PA  2021                1           30.000000   \n",
       "1  2021-01-01  Bay Minette    AL  2021                1           68.000000   \n",
       "2  2021-01-01   Bloomfield    IN  2021                3           39.333333   \n",
       "3  2021-01-01     Caldwell    ID  2021                8           37.000000   \n",
       "4  2021-01-01     Clermont    FL  2021                3           69.333333   \n",
       "\n",
       "   Avg_Wind_Chill(F)  Avg_Humidity(%)  Avg_Pressure(in)  Avg_Visibility(mi)  \\\n",
       "0          24.000000        72.000000         30.000000               10.00   \n",
       "1          68.000000        90.000000         29.890000               10.00   \n",
       "2          35.000000        91.000000         28.893333                1.25   \n",
       "3          32.000000        79.000000         27.710000               10.00   \n",
       "4          69.333333        90.333333         30.060000               10.00   \n",
       "\n",
       "   Avg_Wind_Speed(mph)  Avg_Precipitation(in)  \n",
       "0             6.000000               0.000000  \n",
       "1             6.000000               0.010000  \n",
       "2             7.333333               0.026667  \n",
       "3             7.000000               0.000000  \n",
       "4             6.333333               0.000000  "
      ]
     },
     "execution_count": 24,
     "metadata": {},
     "output_type": "execute_result"
    }
   ],
   "source": [
    "df.head(5)"
   ]
  },
  {
   "cell_type": "markdown",
   "id": "ca4d20c6",
   "metadata": {},
   "source": [
    "USANDO TODOS LOS AÑOS"
   ]
  },
  {
   "cell_type": "code",
   "execution_count": null,
   "id": "26765dc2",
   "metadata": {},
   "outputs": [],
   "source": [
    "# usando mlflow\n",
    "import pandas as pd\n",
    "import numpy as np\n",
    "import xgboost as xgb\n",
    "from sklearn.preprocessing import LabelEncoder\n",
    "from sklearn.model_selection import train_test_split\n",
    "from sklearn.metrics import mean_squared_error, mean_absolute_error, r2_score\n",
    "import matplotlib.pyplot as plt\n",
    "import mlflow\n",
    "import mlflow.xgboost\n",
    "import glob\n",
    "import os\n",
    "\n",
    "# === MLflow setup ===\n",
    "mlflow.set_experiment(\"Accidents_XGBoost_Base\")  # Puedes cambiar el nombre del experimento\n",
    "\n",
    "with mlflow.start_run():\n",
    "    # === Cargar datos ===\n",
    "    files = glob.glob(\"/workspace/ADGE_project/datasets/daily_accidents_*.parquet\")\n",
    "    df = pd.concat([pd.read_parquet(f) for f in files], ignore_index=True)\n",
    "\n",
    "    df_model = df[['Date', 'City', 'State', 'Year', 'Daily_Accidents']].copy()\n",
    "    df_model['Date'] = pd.to_datetime(df_model['Date'])\n",
    "    df_model['DayOfWeek'] = df_model['Date'].dt.dayofweek\n",
    "    df_model['Month'] = df_model['Date'].dt.month\n",
    "    df_model['Day'] = df_model['Date'].dt.day\n",
    "\n",
    "    le_city = LabelEncoder()\n",
    "    df_model['City_enc'] = le_city.fit_transform(df_model['City'])\n",
    "\n",
    "    le_state = LabelEncoder()\n",
    "    df_model['State_enc'] = le_state.fit_transform(df_model['State'])\n",
    "\n",
    "    feature_cols = ['Year', 'DayOfWeek', 'Month', 'Day', 'City_enc', 'State_enc']\n",
    "    X = df_model[feature_cols]\n",
    "    y = df_model['Daily_Accidents']\n",
    "\n",
    "    X_train, X_test, y_train, y_test = train_test_split(X, y, test_size=0.2, random_state=42)\n",
    "\n",
    "    # === Hiperparámetros ===\n",
    "    params = {\n",
    "        'objective': 'reg:squarederror',\n",
    "        'n_estimators': 100,\n",
    "        'max_depth': 6,\n",
    "        'learning_rate': 0.1,\n",
    "        'random_state': 42\n",
    "    }\n",
    "\n",
    "    # Log de parámetros\n",
    "    mlflow.log_params(params)\n",
    "\n",
    "    # === Modelo ===\n",
    "    model = xgb.XGBRegressor(**params)\n",
    "    model.fit(X_train, y_train)\n",
    "\n",
    "    # === Evaluación ===\n",
    "    y_pred = model.predict(X_test)\n",
    "    rmse = np.sqrt(mean_squared_error(y_test, y_pred))\n",
    "    mae = mean_absolute_error(y_test, y_pred)\n",
    "    r2 = r2_score(y_test, y_pred)\n",
    "\n",
    "    # Log de métricas\n",
    "    mlflow.log_metric(\"rmse\", rmse)\n",
    "    mlflow.log_metric(\"mae\", mae)\n",
    "    mlflow.log_metric(\"r2\", r2)\n",
    "\n",
    "    print(f\"RMSE: {rmse:.3f}\")\n",
    "    print(f\"MAE: {mae:.3f}\")\n",
    "    print(f\"R²: {r2:.3f}\")\n",
    "\n",
    "    # === Log de artefacto: Feature importance plot ===\n",
    "    fig, ax = plt.subplots(figsize=(8, 5))\n",
    "    xgb.plot_importance(model, max_num_features=10, ax=ax)\n",
    "    plt.tight_layout()\n",
    "    plot_path = \"feature_importance.png\"\n",
    "    plt.savefig(plot_path)\n",
    "    mlflow.log_artifact(plot_path)\n",
    "\n",
    "    # === Log del modelo completo ===\n",
    "    mlflow.xgboost.log_model(model, \"model\")\n",
    "\n",
    "    # Limpieza\n",
    "    os.remove(plot_path)\n"
   ]
  },
  {
   "cell_type": "code",
   "execution_count": 4,
   "id": "8e8667d3",
   "metadata": {},
   "outputs": [
    {
     "name": "stderr",
     "output_type": "stream",
     "text": [
      "2025/06/03 01:59:18 INFO mlflow.tracking.fluent: Experiment with name 'Accidents_XGBoost_With_Climate' does not exist. Creating a new experiment.\n"
     ]
    },
    {
     "name": "stdout",
     "output_type": "stream",
     "text": [
      "Datos cargados: (1508616, 12)\n",
      "RMSE: 6.882\n",
      "MAE: 2.167\n",
      "R²: 0.402\n"
     ]
    },
    {
     "name": "stderr",
     "output_type": "stream",
     "text": [
      "/opt/conda/lib/python3.11/site-packages/xgboost/sklearn.py:1028: UserWarning: [01:59:21] WARNING: /workspace/src/c_api/c_api.cc:1427: Saving model in the UBJSON format as default.  You can use file extension: `json`, `ubj` or `deprecated` to choose between formats.\n",
      "  self.get_booster().save_model(fname)\n",
      "\u001b[31m2025/06/03 01:59:22 WARNING mlflow.models.model: Model logged without a signature and input example. Please set `input_example` parameter when logging the model to auto infer the model signature.\u001b[0m\n"
     ]
    },
    {
     "data": {
      "image/png": "[encoded data removed]",
      "text/plain": [
       "<Figure size 800x600 with 1 Axes>"
      ]
     },
     "metadata": {},
     "output_type": "display_data"
    }
   ],
   "source": [
    "import pandas as pd\n",
    "import numpy as np\n",
    "import xgboost as xgb\n",
    "from sklearn.preprocessing import LabelEncoder\n",
    "from sklearn.model_selection import train_test_split\n",
    "from sklearn.metrics import mean_squared_error, mean_absolute_error, r2_score\n",
    "import glob\n",
    "import matplotlib.pyplot as plt\n",
    "import mlflow\n",
    "import mlflow.xgboost\n",
    "import os\n",
    "\n",
    "# === Set experiment ===\n",
    "mlflow.set_experiment(\"Accidents_XGBoost_With_Climate\")\n",
    "\n",
    "with mlflow.start_run():\n",
    "    # === Cargar datos ===\n",
    "    files = glob.glob(\"/workspace/ADGE_project/datasets/daily_accidents_*.parquet\")\n",
    "    df = pd.concat([pd.read_parquet(f) for f in files], ignore_index=True)\n",
    "\n",
    "    print(f\"Datos cargados: {df.shape}\")\n",
    "\n",
    "    cols = ['Date', 'City', 'State', 'Year', 'Daily_Accidents',\n",
    "            'Avg_Temperature(F)', 'Avg_Wind_Chill(F)', 'Avg_Humidity(%)',\n",
    "            'Avg_Pressure(in)', 'Avg_Visibility(mi)', 'Avg_Wind_Speed(mph)', 'Avg_Precipitation(in)']\n",
    "\n",
    "    df_model = df[cols].copy()\n",
    "\n",
    "    df_model['Date'] = pd.to_datetime(df_model['Date'])\n",
    "    df_model['DayOfWeek'] = df_model['Date'].dt.dayofweek\n",
    "    df_model['Month'] = df_model['Date'].dt.month\n",
    "    df_model['Day'] = df_model['Date'].dt.day\n",
    "\n",
    "    le_city = LabelEncoder()\n",
    "    df_model['City_enc'] = le_city.fit_transform(df_model['City'])\n",
    "\n",
    "    le_state = LabelEncoder()\n",
    "    df_model['State_enc'] = le_state.fit_transform(df_model['State'])\n",
    "\n",
    "    feature_cols = ['Year', 'DayOfWeek', 'Month', 'Day', 'City_enc', 'State_enc',\n",
    "                    'Avg_Temperature(F)', 'Avg_Wind_Chill(F)', 'Avg_Humidity(%)',\n",
    "                    'Avg_Pressure(in)', 'Avg_Visibility(mi)', 'Avg_Wind_Speed(mph)', 'Avg_Precipitation(in)']\n",
    "\n",
    "    X = df_model[feature_cols]\n",
    "    y = df_model['Daily_Accidents']\n",
    "\n",
    "    X_train, X_test, y_train, y_test = train_test_split(\n",
    "        X, y, test_size=0.2, random_state=42\n",
    "    )\n",
    "\n",
    "    params = {\n",
    "        'objective': 'reg:squarederror',\n",
    "        'n_estimators': 100,\n",
    "        'max_depth': 6,\n",
    "        'learning_rate': 0.1,\n",
    "        'random_state': 42\n",
    "    }\n",
    "\n",
    "    mlflow.log_params(params)\n",
    "\n",
    "    model = xgb.XGBRegressor(**params)\n",
    "    model.fit(X_train, y_train)\n",
    "\n",
    "    y_pred = model.predict(X_test)\n",
    "\n",
    "    rmse = np.sqrt(mean_squared_error(y_test, y_pred))\n",
    "    mae = mean_absolute_error(y_test, y_pred)\n",
    "    r2 = r2_score(y_test, y_pred)\n",
    "\n",
    "    mlflow.log_metric(\"rmse\", rmse)\n",
    "    mlflow.log_metric(\"mae\", mae)\n",
    "    mlflow.log_metric(\"r2\", r2)\n",
    "\n",
    "    print(f\"RMSE: {rmse:.3f}\")\n",
    "    print(f\"MAE: {mae:.3f}\")\n",
    "    print(f\"R²: {r2:.3f}\")\n",
    "\n",
    "    fig, ax = plt.subplots(figsize=(8, 6))\n",
    "    xgb.plot_importance(model, max_num_features=12, ax=ax)\n",
    "    plt.tight_layout()\n",
    "    plot_path = \"feature_importance_with_climate.png\"\n",
    "    plt.savefig(plot_path)\n",
    "    mlflow.log_artifact(plot_path)\n",
    "\n",
    "    mlflow.xgboost.log_model(model, \"model\")\n",
    "\n",
    "    os.remove(plot_path)\n"
   ]
  },
  {
   "cell_type": "markdown",
   "id": "95ebc486",
   "metadata": {},
   "source": [
    "AÑOS POR SEPARADO"
   ]
  },
  {
   "cell_type": "code",
   "execution_count": 5,
   "id": "53a3f1cf",
   "metadata": {},
   "outputs": [
    {
     "name": "stdout",
     "output_type": "stream",
     "text": [
      "Datos cargados: (1508616, 12)\n"
     ]
    },
    {
     "name": "stderr",
     "output_type": "stream",
     "text": [
      "2025/06/03 02:00:19 INFO mlflow.tracking.fluent: Experiment with name 'Accidents_XGBoost_Yearly_No_Climate' does not exist. Creating a new experiment.\n",
      "/opt/conda/lib/python3.11/site-packages/xgboost/sklearn.py:1028: UserWarning: [02:00:19] WARNING: /workspace/src/c_api/c_api.cc:1427: Saving model in the UBJSON format as default.  You can use file extension: `json`, `ubj` or `deprecated` to choose between formats.\n",
      "  self.get_booster().save_model(fname)\n"
     ]
    },
    {
     "name": "stdout",
     "output_type": "stream",
     "text": [
      "\n",
      "=== Año 2016 ===\n",
      "RMSE: 1.869\n",
      "MAE: 0.865\n",
      "R²: -0.490\n"
     ]
    },
    {
     "name": "stderr",
     "output_type": "stream",
     "text": [
      "\u001b[31m2025/06/03 02:00:21 WARNING mlflow.models.model: Model logged without a signature and input example. Please set `input_example` parameter when logging the model to auto infer the model signature.\u001b[0m\n",
      "/opt/conda/lib/python3.11/site-packages/xgboost/sklearn.py:1028: UserWarning: [02:00:21] WARNING: /workspace/src/c_api/c_api.cc:1427: Saving model in the UBJSON format as default.  You can use file extension: `json`, `ubj` or `deprecated` to choose between formats.\n",
      "  self.get_booster().save_model(fname)\n"
     ]
    },
    {
     "name": "stdout",
     "output_type": "stream",
     "text": [
      "\n",
      "=== Año 2017 ===\n",
      "RMSE: 2.817\n",
      "MAE: 1.124\n",
      "R²: 0.105\n"
     ]
    },
    {
     "name": "stderr",
     "output_type": "stream",
     "text": [
      "\u001b[31m2025/06/03 02:00:22 WARNING mlflow.models.model: Model logged without a signature and input example. Please set `input_example` parameter when logging the model to auto infer the model signature.\u001b[0m\n",
      "/opt/conda/lib/python3.11/site-packages/xgboost/sklearn.py:1028: UserWarning: [02:00:22] WARNING: /workspace/src/c_api/c_api.cc:1427: Saving model in the UBJSON format as default.  You can use file extension: `json`, `ubj` or `deprecated` to choose between formats.\n",
      "  self.get_booster().save_model(fname)\n"
     ]
    },
    {
     "name": "stdout",
     "output_type": "stream",
     "text": [
      "\n",
      "=== Año 2018 ===\n",
      "RMSE: 3.108\n",
      "MAE: 1.247\n",
      "R²: 0.214\n"
     ]
    },
    {
     "name": "stderr",
     "output_type": "stream",
     "text": [
      "\u001b[31m2025/06/03 02:00:24 WARNING mlflow.models.model: Model logged without a signature and input example. Please set `input_example` parameter when logging the model to auto infer the model signature.\u001b[0m\n"
     ]
    },
    {
     "name": "stdout",
     "output_type": "stream",
     "text": [
      "\n",
      "=== Año 2019 ===\n",
      "RMSE: 4.162\n",
      "MAE: 1.724\n",
      "R²: 0.589\n"
     ]
    },
    {
     "name": "stderr",
     "output_type": "stream",
     "text": [
      "/opt/conda/lib/python3.11/site-packages/xgboost/sklearn.py:1028: UserWarning: [02:00:24] WARNING: /workspace/src/c_api/c_api.cc:1427: Saving model in the UBJSON format as default.  You can use file extension: `json`, `ubj` or `deprecated` to choose between formats.\n",
      "  self.get_booster().save_model(fname)\n",
      "\u001b[31m2025/06/03 02:00:26 WARNING mlflow.models.model: Model logged without a signature and input example. Please set `input_example` parameter when logging the model to auto infer the model signature.\u001b[0m\n"
     ]
    },
    {
     "name": "stdout",
     "output_type": "stream",
     "text": [
      "\n",
      "=== Año 2020 ===\n",
      "RMSE: 6.739\n",
      "MAE: 2.379\n",
      "R²: 0.360\n"
     ]
    },
    {
     "name": "stderr",
     "output_type": "stream",
     "text": [
      "/opt/conda/lib/python3.11/site-packages/xgboost/sklearn.py:1028: UserWarning: [02:00:26] WARNING: /workspace/src/c_api/c_api.cc:1427: Saving model in the UBJSON format as default.  You can use file extension: `json`, `ubj` or `deprecated` to choose between formats.\n",
      "  self.get_booster().save_model(fname)\n",
      "\u001b[31m2025/06/03 02:00:28 WARNING mlflow.models.model: Model logged without a signature and input example. Please set `input_example` parameter when logging the model to auto infer the model signature.\u001b[0m\n"
     ]
    },
    {
     "name": "stdout",
     "output_type": "stream",
     "text": [
      "\n",
      "=== Año 2021 ===\n",
      "RMSE: 7.168\n",
      "MAE: 2.522\n",
      "R²: 0.412\n"
     ]
    },
    {
     "name": "stderr",
     "output_type": "stream",
     "text": [
      "/opt/conda/lib/python3.11/site-packages/xgboost/sklearn.py:1028: UserWarning: [02:00:28] WARNING: /workspace/src/c_api/c_api.cc:1427: Saving model in the UBJSON format as default.  You can use file extension: `json`, `ubj` or `deprecated` to choose between formats.\n",
      "  self.get_booster().save_model(fname)\n",
      "\u001b[31m2025/06/03 02:00:30 WARNING mlflow.models.model: Model logged without a signature and input example. Please set `input_example` parameter when logging the model to auto infer the model signature.\u001b[0m\n"
     ]
    },
    {
     "name": "stdout",
     "output_type": "stream",
     "text": [
      "\n",
      "=== Año 2022 ===\n",
      "RMSE: 8.486\n",
      "MAE: 2.958\n",
      "R²: 0.470\n"
     ]
    },
    {
     "name": "stderr",
     "output_type": "stream",
     "text": [
      "/opt/conda/lib/python3.11/site-packages/xgboost/sklearn.py:1028: UserWarning: [02:00:30] WARNING: /workspace/src/c_api/c_api.cc:1427: Saving model in the UBJSON format as default.  You can use file extension: `json`, `ubj` or `deprecated` to choose between formats.\n",
      "  self.get_booster().save_model(fname)\n",
      "\u001b[31m2025/06/03 02:00:32 WARNING mlflow.models.model: Model logged without a signature and input example. Please set `input_example` parameter when logging the model to auto infer the model signature.\u001b[0m\n",
      "/opt/conda/lib/python3.11/site-packages/xgboost/sklearn.py:1028: UserWarning: [02:00:32] WARNING: /workspace/src/c_api/c_api.cc:1427: Saving model in the UBJSON format as default.  You can use file extension: `json`, `ubj` or `deprecated` to choose between formats.\n",
      "  self.get_booster().save_model(fname)\n"
     ]
    },
    {
     "name": "stdout",
     "output_type": "stream",
     "text": [
      "\n",
      "=== Año 2023 ===\n",
      "RMSE: 6.639\n",
      "MAE: 2.775\n",
      "R²: 0.307\n"
     ]
    },
    {
     "name": "stderr",
     "output_type": "stream",
     "text": [
      "\u001b[31m2025/06/03 02:00:33 WARNING mlflow.models.model: Model logged without a signature and input example. Please set `input_example` parameter when logging the model to auto infer the model signature.\u001b[0m\n"
     ]
    }
   ],
   "source": [
    "import pandas as pd\n",
    "import numpy as np\n",
    "import xgboost as xgb\n",
    "from sklearn.preprocessing import LabelEncoder\n",
    "from sklearn.model_selection import train_test_split\n",
    "from sklearn.metrics import mean_squared_error, mean_absolute_error, r2_score\n",
    "import matplotlib.pyplot as plt\n",
    "import glob\n",
    "import mlflow\n",
    "import mlflow.xgboost\n",
    "import os\n",
    "\n",
    "# Cargo todos los años juntos\n",
    "files = glob.glob(\"/workspace/ADGE_project/datasets/daily_accidents_*.parquet\")\n",
    "df_list = [pd.read_parquet(f) for f in files]\n",
    "df = pd.concat(df_list, ignore_index=True)\n",
    "\n",
    "print(f\"Datos cargados: {df.shape}\")\n",
    "\n",
    "# Variables base (sin clima)\n",
    "df_model = df[['Date', 'City', 'State', 'Year', 'Daily_Accidents']].copy()\n",
    "df_model['Date'] = pd.to_datetime(df_model['Date'])\n",
    "df_model['DayOfWeek'] = df_model['Date'].dt.dayofweek\n",
    "df_model['Month'] = df_model['Date'].dt.month\n",
    "df_model['Day'] = df_model['Date'].dt.day\n",
    "\n",
    "# Codificar City y State (fuera del loop para consistencia)\n",
    "le_city = LabelEncoder()\n",
    "df_model['City_enc'] = le_city.fit_transform(df_model['City'])\n",
    "\n",
    "le_state = LabelEncoder()\n",
    "df_model['State_enc'] = le_state.fit_transform(df_model['State'])\n",
    "\n",
    "feature_cols = ['Year', 'DayOfWeek', 'Month', 'Day', 'City_enc', 'State_enc']\n",
    "\n",
    "años = sorted(df_model['Year'].unique())\n",
    "\n",
    "mlflow.set_experiment(\"Accidents_XGBoost_Yearly_No_Climate\")\n",
    "\n",
    "for año in años:\n",
    "    with mlflow.start_run(run_name=f\"Año_{año}\"):\n",
    "        print(f\"\\n=== Año {año} ===\")\n",
    "        \n",
    "        df_year = df_model[df_model['Year'] == año].copy()\n",
    "        X = df_year[feature_cols]\n",
    "        y = df_year['Daily_Accidents']\n",
    "        \n",
    "        X_train, X_test, y_train, y_test = train_test_split(\n",
    "            X, y, test_size=0.2, random_state=42\n",
    "        )\n",
    "        \n",
    "        params = {\n",
    "            'objective': 'reg:squarederror',\n",
    "            'n_estimators': 100,\n",
    "            'max_depth': 6,\n",
    "            'learning_rate': 0.1,\n",
    "            'random_state': 42\n",
    "        }\n",
    "        mlflow.log_params(params)\n",
    "        mlflow.log_param(\"Year\", año)\n",
    "\n",
    "        model = xgb.XGBRegressor(**params)\n",
    "        model.fit(X_train, y_train)\n",
    "        \n",
    "        y_pred = model.predict(X_test)\n",
    "        \n",
    "        rmse = np.sqrt(mean_squared_error(y_test, y_pred))\n",
    "        mae = mean_absolute_error(y_test, y_pred)\n",
    "        r2 = r2_score(y_test, y_pred)\n",
    "\n",
    "        mlflow.log_metric(\"rmse\", rmse)\n",
    "        mlflow.log_metric(\"mae\", mae)\n",
    "        mlflow.log_metric(\"r2\", r2)\n",
    "\n",
    "        print(f\"RMSE: {rmse:.3f}\")\n",
    "        print(f\"MAE: {mae:.3f}\")\n",
    "        print(f\"R²: {r2:.3f}\")\n",
    "\n",
    "        fig, ax = plt.subplots(figsize=(8,5))\n",
    "        xgb.plot_importance(model, max_num_features=10, ax=ax, title=f\"Importancia Features Año {año}\")\n",
    "        plt.tight_layout()\n",
    "        plot_path = f\"feature_importance_year_{año}.png\"\n",
    "        plt.savefig(plot_path)\n",
    "        mlflow.log_artifact(plot_path)\n",
    "\n",
    "        mlflow.xgboost.log_model(model, \"model\")\n",
    "\n",
    "        plt.close(fig)\n",
    "        os.remove(plot_path)\n"
   ]
  },
  {
   "cell_type": "markdown",
   "id": "a48f23d9",
   "metadata": {},
   "source": [
    "Con clima\n",
    "\n"
   ]
  },
  {
   "cell_type": "code",
   "execution_count": 6,
   "id": "ffe70b2e",
   "metadata": {},
   "outputs": [
    {
     "name": "stdout",
     "output_type": "stream",
     "text": [
      "Datos cargados: (1508616, 12)\n"
     ]
    },
    {
     "name": "stderr",
     "output_type": "stream",
     "text": [
      "2025/06/03 02:01:51 INFO mlflow.tracking.fluent: Experiment with name 'Accidents_XGBoost_Yearly_Climate' does not exist. Creating a new experiment.\n",
      "/opt/conda/lib/python3.11/site-packages/xgboost/sklearn.py:1028: UserWarning: [02:01:51] WARNING: /workspace/src/c_api/c_api.cc:1427: Saving model in the UBJSON format as default.  You can use file extension: `json`, `ubj` or `deprecated` to choose between formats.\n",
      "  self.get_booster().save_model(fname)\n"
     ]
    },
    {
     "name": "stdout",
     "output_type": "stream",
     "text": [
      "\n",
      "=== Año 2016 ===\n"
     ]
    },
    {
     "name": "stderr",
     "output_type": "stream",
     "text": [
      "\u001b[31m2025/06/03 02:01:53 WARNING mlflow.models.model: Model logged without a signature and input example. Please set `input_example` parameter when logging the model to auto infer the model signature.\u001b[0m\n",
      "/opt/conda/lib/python3.11/site-packages/xgboost/sklearn.py:1028: UserWarning: [02:01:53] WARNING: /workspace/src/c_api/c_api.cc:1427: Saving model in the UBJSON format as default.  You can use file extension: `json`, `ubj` or `deprecated` to choose between formats.\n",
      "  self.get_booster().save_model(fname)\n"
     ]
    },
    {
     "name": "stdout",
     "output_type": "stream",
     "text": [
      "\n",
      "=== Año 2017 ===\n"
     ]
    },
    {
     "name": "stderr",
     "output_type": "stream",
     "text": [
      "\u001b[31m2025/06/03 02:01:54 WARNING mlflow.models.model: Model logged without a signature and input example. Please set `input_example` parameter when logging the model to auto infer the model signature.\u001b[0m\n",
      "/opt/conda/lib/python3.11/site-packages/xgboost/sklearn.py:1028: UserWarning: [02:01:54] WARNING: /workspace/src/c_api/c_api.cc:1427: Saving model in the UBJSON format as default.  You can use file extension: `json`, `ubj` or `deprecated` to choose between formats.\n",
      "  self.get_booster().save_model(fname)\n"
     ]
    },
    {
     "name": "stdout",
     "output_type": "stream",
     "text": [
      "\n",
      "=== Año 2018 ===\n"
     ]
    },
    {
     "name": "stderr",
     "output_type": "stream",
     "text": [
      "\u001b[31m2025/06/03 02:01:56 WARNING mlflow.models.model: Model logged without a signature and input example. Please set `input_example` parameter when logging the model to auto infer the model signature.\u001b[0m\n"
     ]
    },
    {
     "name": "stdout",
     "output_type": "stream",
     "text": [
      "\n",
      "=== Año 2019 ===\n"
     ]
    },
    {
     "name": "stderr",
     "output_type": "stream",
     "text": [
      "/opt/conda/lib/python3.11/site-packages/xgboost/sklearn.py:1028: UserWarning: [02:01:56] WARNING: /workspace/src/c_api/c_api.cc:1427: Saving model in the UBJSON format as default.  You can use file extension: `json`, `ubj` or `deprecated` to choose between formats.\n",
      "  self.get_booster().save_model(fname)\n",
      "\u001b[31m2025/06/03 02:01:58 WARNING mlflow.models.model: Model logged without a signature and input example. Please set `input_example` parameter when logging the model to auto infer the model signature.\u001b[0m\n"
     ]
    },
    {
     "name": "stdout",
     "output_type": "stream",
     "text": [
      "\n",
      "=== Año 2020 ===\n"
     ]
    },
    {
     "name": "stderr",
     "output_type": "stream",
     "text": [
      "/opt/conda/lib/python3.11/site-packages/xgboost/sklearn.py:1028: UserWarning: [02:01:59] WARNING: /workspace/src/c_api/c_api.cc:1427: Saving model in the UBJSON format as default.  You can use file extension: `json`, `ubj` or `deprecated` to choose between formats.\n",
      "  self.get_booster().save_model(fname)\n",
      "\u001b[31m2025/06/03 02:02:00 WARNING mlflow.models.model: Model logged without a signature and input example. Please set `input_example` parameter when logging the model to auto infer the model signature.\u001b[0m\n"
     ]
    },
    {
     "name": "stdout",
     "output_type": "stream",
     "text": [
      "\n",
      "=== Año 2021 ===\n"
     ]
    },
    {
     "name": "stderr",
     "output_type": "stream",
     "text": [
      "/opt/conda/lib/python3.11/site-packages/xgboost/sklearn.py:1028: UserWarning: [02:02:01] WARNING: /workspace/src/c_api/c_api.cc:1427: Saving model in the UBJSON format as default.  You can use file extension: `json`, `ubj` or `deprecated` to choose between formats.\n",
      "  self.get_booster().save_model(fname)\n",
      "\u001b[31m2025/06/03 02:02:03 WARNING mlflow.models.model: Model logged without a signature and input example. Please set `input_example` parameter when logging the model to auto infer the model signature.\u001b[0m\n"
     ]
    },
    {
     "name": "stdout",
     "output_type": "stream",
     "text": [
      "\n",
      "=== Año 2022 ===\n"
     ]
    },
    {
     "name": "stderr",
     "output_type": "stream",
     "text": [
      "/opt/conda/lib/python3.11/site-packages/xgboost/sklearn.py:1028: UserWarning: [02:02:03] WARNING: /workspace/src/c_api/c_api.cc:1427: Saving model in the UBJSON format as default.  You can use file extension: `json`, `ubj` or `deprecated` to choose between formats.\n",
      "  self.get_booster().save_model(fname)\n",
      "\u001b[31m2025/06/03 02:02:05 WARNING mlflow.models.model: Model logged without a signature and input example. Please set `input_example` parameter when logging the model to auto infer the model signature.\u001b[0m\n",
      "/opt/conda/lib/python3.11/site-packages/xgboost/sklearn.py:1028: UserWarning: [02:02:05] WARNING: /workspace/src/c_api/c_api.cc:1427: Saving model in the UBJSON format as default.  You can use file extension: `json`, `ubj` or `deprecated` to choose between formats.\n",
      "  self.get_booster().save_model(fname)\n"
     ]
    },
    {
     "name": "stdout",
     "output_type": "stream",
     "text": [
      "\n",
      "=== Año 2023 ===\n"
     ]
    },
    {
     "name": "stderr",
     "output_type": "stream",
     "text": [
      "\u001b[31m2025/06/03 02:02:06 WARNING mlflow.models.model: Model logged without a signature and input example. Please set `input_example` parameter when logging the model to auto infer the model signature.\u001b[0m\n"
     ]
    },
    {
     "data": {
      "text/plain": [
       "<Figure size 1000x600 with 0 Axes>"
      ]
     },
     "metadata": {},
     "output_type": "display_data"
    }
   ],
   "source": [
    "import pandas as pd\n",
    "import numpy as np\n",
    "import xgboost as xgb\n",
    "from sklearn.preprocessing import LabelEncoder\n",
    "from sklearn.model_selection import train_test_split\n",
    "import matplotlib.pyplot as plt\n",
    "import glob\n",
    "import mlflow\n",
    "import mlflow.xgboost\n",
    "import os\n",
    "\n",
    "# Cargo todos los años juntos\n",
    "files = glob.glob(\"/workspace/ADGE_project/datasets/daily_accidents_*.parquet\")\n",
    "df_list = [pd.read_parquet(f) for f in files]\n",
    "df = pd.concat(df_list, ignore_index=True)\n",
    "\n",
    "print(f\"Datos cargados: {df.shape}\")\n",
    "\n",
    "# Variables con clima\n",
    "df_model = df[['Date', 'City', 'State', 'Year', 'Daily_Accidents',\n",
    "               'Avg_Temperature(F)', 'Avg_Wind_Chill(F)', 'Avg_Humidity(%)',\n",
    "               'Avg_Pressure(in)', 'Avg_Visibility(mi)', 'Avg_Wind_Speed(mph)',\n",
    "               'Avg_Precipitation(in)']].copy()\n",
    "\n",
    "df_model['Date'] = pd.to_datetime(df_model['Date'])\n",
    "\n",
    "df_model['DayOfWeek'] = df_model['Date'].dt.dayofweek\n",
    "df_model['Month'] = df_model['Date'].dt.month\n",
    "df_model['Day'] = df_model['Date'].dt.day\n",
    "\n",
    "le_city = LabelEncoder()\n",
    "df_model['City_enc'] = le_city.fit_transform(df_model['City'])\n",
    "\n",
    "le_state = LabelEncoder()\n",
    "df_model['State_enc'] = le_state.fit_transform(df_model['State'])\n",
    "\n",
    "feature_cols = ['Year', 'DayOfWeek', 'Month', 'Day', 'City_enc', 'State_enc',\n",
    "                'Avg_Temperature(F)', 'Avg_Wind_Chill(F)', 'Avg_Humidity(%)',\n",
    "                'Avg_Pressure(in)', 'Avg_Visibility(mi)', 'Avg_Wind_Speed(mph)',\n",
    "                'Avg_Precipitation(in)']\n",
    "\n",
    "global_importance = {feat: 0 for feat in feature_cols}\n",
    "\n",
    "mlflow.set_experiment(\"Accidents_XGBoost_Yearly_Climate\")\n",
    "\n",
    "for año in sorted(df_model['Year'].unique()):\n",
    "    with mlflow.start_run(run_name=f\"Año_{año}\"):\n",
    "        print(f\"\\n=== Año {año} ===\")\n",
    "        \n",
    "        df_year = df_model[df_model['Year'] == año].copy()\n",
    "        X = df_year[feature_cols]\n",
    "        y = df_year['Daily_Accidents']\n",
    "        \n",
    "        X_train, X_test, y_train, y_test = train_test_split(\n",
    "            X, y, test_size=0.2, random_state=42\n",
    "        )\n",
    "        \n",
    "        params = {\n",
    "            'objective': 'reg:squarederror',\n",
    "            'n_estimators': 100,\n",
    "            'max_depth': 6,\n",
    "            'learning_rate': 0.1,\n",
    "            'random_state': 42\n",
    "        }\n",
    "        mlflow.log_params(params)\n",
    "        mlflow.log_param(\"Year\", año)\n",
    "\n",
    "        model = xgb.XGBRegressor(**params)\n",
    "        model.fit(X_train, y_train)\n",
    "\n",
    "        y_pred = model.predict(X_test)\n",
    "        \n",
    "        rmse = np.sqrt(mean_squared_error(y_test, y_pred))\n",
    "        mae = np.mean(np.abs(y_test - y_pred))\n",
    "        r2 = model.score(X_test, y_test)  # Igual que r2_score\n",
    "        \n",
    "        mlflow.log_metric(\"rmse\", rmse)\n",
    "        mlflow.log_metric(\"mae\", mae)\n",
    "        mlflow.log_metric(\"r2\", r2)\n",
    "        \n",
    "        # Importancia individual año\n",
    "        importancias = model.get_booster().get_score(importance_type='gain')\n",
    "        for feat, val in importancias.items():\n",
    "            # XGBoost puede renombrar features (ej: f0, f1...) \n",
    "            # así que hay que mapearlos a nombres reales si es necesario\n",
    "            if feat.startswith('f'):\n",
    "                idx = int(feat[1:])\n",
    "                real_feat = feature_cols[idx]\n",
    "                global_importance[real_feat] += val\n",
    "            else:\n",
    "                global_importance[feat] = global_importance.get(feat, 0) + val\n",
    "        \n",
    "        # Guardar modelo\n",
    "        mlflow.xgboost.log_model(model, \"model\")\n",
    "\n",
    "# Graficar importancia global acumulada\n",
    "importance_df = pd.DataFrame.from_dict(global_importance, orient='index', columns=['importance'])\n",
    "importance_df = importance_df.sort_values(by='importance', ascending=False)\n",
    "\n",
    "plt.figure(figsize=(10, 6))\n",
    "importance_df.plot(kind='barh', legend=False)\n",
    "plt.title(\"Importancia Global de Features (2016-2023) con Clima\")\n",
    "plt.xlabel(\"Importancia Acumulada (gain)\")\n",
    "plt.gca().invert_yaxis()\n",
    "plt.tight_layout()\n",
    "\n",
    "plt.savefig(\"importance_global_climate.png\")\n",
    "mlflow.log_artifact(\"importance_global_climate.png\")\n",
    "plt.close()\n",
    "\n",
    "os.remove(\"importance_global_climate.png\")\n"
   ]
  },
  {
   "cell_type": "code",
   "execution_count": null,
   "id": "c781745f",
   "metadata": {},
   "outputs": [
    {
     "name": "stdout",
     "output_type": "stream",
     "text": [
      "Datos cargados: (1508616, 12)\n",
      "\n",
      "=== Año 2016 ===\n",
      "\n",
      "=== Año 2017 ===\n",
      "\n",
      "=== Año 2018 ===\n",
      "\n",
      "=== Año 2019 ===\n",
      "\n",
      "=== Año 2020 ===\n",
      "\n",
      "=== Año 2021 ===\n",
      "\n",
      "=== Año 2022 ===\n",
      "\n",
      "=== Año 2023 ===\n"
     ]
    },
    {
     "data": {
      "text/plain": [
       "<Figure size 1000x600 with 0 Axes>"
      ]
     },
     "metadata": {},
     "output_type": "display_data"
    },
    {
     "data": {
      "image/png": "[encoded data removed]",
      "text/plain": [
       "<Figure size 640x480 with 1 Axes>"
      ]
     },
     "metadata": {},
     "output_type": "display_data"
    }
   ],
   "source": [
    "import pandas as pd\n",
    "import numpy as np\n",
    "import xgboost as xgb\n",
    "from sklearn.preprocessing import LabelEncoder\n",
    "from sklearn.model_selection import train_test_split\n",
    "import matplotlib.pyplot as plt\n",
    "import glob\n",
    "\n",
    "# Cargo todos los años juntos\n",
    "files = glob.glob(\"/workspace/ADGE_project/datasets/daily_accidents_*.parquet\")\n",
    "df_list = [pd.read_parquet(f) for f in files]\n",
    "df = pd.concat(df_list, ignore_index=True)\n",
    "\n",
    "print(f\"Datos cargados: {df.shape}\")\n",
    "\n",
    "# Variables con clima\n",
    "df_model = df[['Date', 'City', 'State', 'Year', 'Daily_Accidents',\n",
    "               'Avg_Temperature(F)', 'Avg_Wind_Chill(F)', 'Avg_Humidity(%)',\n",
    "               'Avg_Pressure(in)', 'Avg_Visibility(mi)', 'Avg_Wind_Speed(mph)',\n",
    "               'Avg_Precipitation(in)']].copy()\n",
    "\n",
    "df_model['Date'] = pd.to_datetime(df_model['Date'])\n",
    "\n",
    "# Features temporales desde 'Date'\n",
    "df_model['DayOfWeek'] = df_model['Date'].dt.dayofweek\n",
    "df_model['Month'] = df_model['Date'].dt.month\n",
    "df_model['Day'] = df_model['Date'].dt.day\n",
    "\n",
    "# Codificar City y State\n",
    "le_city = LabelEncoder()\n",
    "df_model['City_enc'] = le_city.fit_transform(df_model['City'])\n",
    "\n",
    "le_state = LabelEncoder()\n",
    "df_model['State_enc'] = le_state.fit_transform(df_model['State'])\n",
    "\n",
    "# Definir features\n",
    "feature_cols = ['Year', 'DayOfWeek', 'Month', 'Day', 'City_enc', 'State_enc',\n",
    "                'Avg_Temperature(F)', 'Avg_Wind_Chill(F)', 'Avg_Humidity(%)',\n",
    "                'Avg_Pressure(in)', 'Avg_Visibility(mi)', 'Avg_Wind_Speed(mph)',\n",
    "                'Avg_Precipitation(in)']\n",
    "\n",
    "# Diccionario para acumular importancias\n",
    "global_importance = {feat: 0 for feat in feature_cols}\n",
    "\n",
    "# Iterar por cada año\n",
    "años = sorted(df_model['Year'].unique())\n",
    "\n",
    "for año in años:\n",
    "    print(f\"\\n=== Año {año} ===\")\n",
    "    \n",
    "    df_year = df_model[df_model['Year'] == año].copy()\n",
    "    X = df_year[feature_cols]\n",
    "    y = df_year['Daily_Accidents']\n",
    "    \n",
    "    X_train, X_test, y_train, y_test = train_test_split(\n",
    "        X, y, test_size=0.2, random_state=42\n",
    "    )\n",
    "    \n",
    "    model = xgb.XGBRegressor(\n",
    "        objective='reg:squarederror',\n",
    "        n_estimators=100,\n",
    "        max_depth=6,\n",
    "        learning_rate=0.1,\n",
    "        random_state=42\n",
    "    )\n",
    "    \n",
    "    model.fit(X_train, y_train)\n",
    "    \n",
    "    # Obtener la importancia de las features como dict\n",
    "    importancias = model.get_booster().get_score(importance_type='gain')\n",
    "    \n",
    "    # Acumular\n",
    "    for feat, val in importancias.items():\n",
    "        if feat in global_importance:\n",
    "            global_importance[feat] += val\n",
    "        else:\n",
    "            global_importance[feat] = val  # Por si XGBoost renombra algunas features\n",
    "\n",
    "# Convertir a DataFrame y ordenar\n",
    "importance_df = pd.DataFrame.from_dict(global_importance, orient='index', columns=['importance'])\n",
    "importance_df = importance_df.sort_values(by='importance', ascending=False)\n",
    "\n",
    "# Graficar\n",
    "plt.figure(figsize=(10, 6))\n",
    "importance_df.plot(kind='barh', legend=False)\n",
    "plt.title(\"Importancia Global de Features (2016-2023) con Clima\")\n",
    "plt.xlabel(\"Importancia Acumulada (gain)\")\n",
    "plt.gca().invert_yaxis()\n",
    "plt.tight_layout()\n",
    "plt.show()\n"
   ]
  },
  {
   "cell_type": "markdown",
   "id": "8d6edfc8",
   "metadata": {},
   "source": [
    "Feature importance global sin clima"
   ]
  },
  {
   "cell_type": "code",
   "execution_count": 30,
   "id": "60bf6565",
   "metadata": {},
   "outputs": [
    {
     "name": "stdout",
     "output_type": "stream",
     "text": [
      "Datos cargados: (1508616, 12)\n",
      "\n",
      "=== Año 2016 ===\n",
      "\n",
      "=== Año 2017 ===\n",
      "\n",
      "=== Año 2018 ===\n",
      "\n",
      "=== Año 2019 ===\n",
      "\n",
      "=== Año 2020 ===\n",
      "\n",
      "=== Año 2021 ===\n",
      "\n",
      "=== Año 2022 ===\n",
      "\n",
      "=== Año 2023 ===\n"
     ]
    },
    {
     "data": {
      "image/png": "[encoded data removed]",
      "text/plain": [
       "<Figure size 1000x600 with 1 Axes>"
      ]
     },
     "metadata": {},
     "output_type": "display_data"
    }
   ],
   "source": [
    "import pandas as pd\n",
    "import numpy as np\n",
    "import xgboost as xgb\n",
    "from sklearn.preprocessing import LabelEncoder\n",
    "from sklearn.model_selection import train_test_split\n",
    "import matplotlib.pyplot as plt\n",
    "import glob\n",
    "\n",
    "# Cargar todos los años juntos\n",
    "files = glob.glob(\"/workspace/ADGE_project/datasets/daily_accidents_*.parquet\")\n",
    "df_list = [pd.read_parquet(f) for f in files]\n",
    "df = pd.concat(df_list, ignore_index=True)\n",
    "\n",
    "print(f\"Datos cargados: {df.shape}\")\n",
    "\n",
    "# Variables base (sin clima)\n",
    "df_model = df[['Date', 'City', 'State', 'Year', 'Daily_Accidents']].copy()\n",
    "df_model['Date'] = pd.to_datetime(df_model['Date'])\n",
    "df_model['DayOfWeek'] = df_model['Date'].dt.dayofweek\n",
    "df_model['Month'] = df_model['Date'].dt.month\n",
    "df_model['Day'] = df_model['Date'].dt.day\n",
    "\n",
    "# Codificación\n",
    "le_city = LabelEncoder()\n",
    "df_model['City_enc'] = le_city.fit_transform(df_model['City'])\n",
    "\n",
    "le_state = LabelEncoder()\n",
    "df_model['State_enc'] = le_state.fit_transform(df_model['State'])\n",
    "\n",
    "feature_cols = ['Year', 'DayOfWeek', 'Month', 'Day', 'City_enc', 'State_enc']\n",
    "\n",
    "# Diccionario para acumular importancia\n",
    "importancia_total = {feature: 0 for feature in feature_cols}\n",
    "\n",
    "# Entrenar por año y acumular importancia\n",
    "años = sorted(df_model['Year'].unique())\n",
    "for año in años:\n",
    "    print(f\"\\n=== Año {año} ===\")\n",
    "    df_year = df_model[df_model['Year'] == año].copy()\n",
    "    X = df_year[feature_cols]\n",
    "    y = df_year['Daily_Accidents']\n",
    "    \n",
    "    X_train, X_test, y_train, y_test = train_test_split(X, y, test_size=0.2, random_state=42)\n",
    "    \n",
    "    model = xgb.XGBRegressor(\n",
    "        objective='reg:squarederror',\n",
    "        n_estimators=100,\n",
    "        max_depth=6,\n",
    "        learning_rate=0.1,\n",
    "        random_state=42\n",
    "    )\n",
    "    \n",
    "    model.fit(X_train, y_train)\n",
    "    \n",
    "    # Extraer importancia\n",
    "    importancia = model.feature_importances_\n",
    "    for i, feature in enumerate(feature_cols):\n",
    "        importancia_total[feature] += importancia[i]\n",
    "\n",
    "# Convertir a DataFrame\n",
    "importancia_df = pd.DataFrame.from_dict(importancia_total, orient='index', columns=['ImportanciaTotal'])\n",
    "importancia_df['ImportanciaPromedio'] = importancia_df['ImportanciaTotal'] / len(años)\n",
    "importancia_df.sort_values('ImportanciaPromedio', ascending=False, inplace=True)\n",
    "\n",
    "# Graficar importancia global\n",
    "plt.figure(figsize=(10,6))\n",
    "plt.barh(importancia_df.index, importancia_df['ImportanciaPromedio'], color='mediumseagreen')\n",
    "plt.xlabel(\"Importancia Promedio\")\n",
    "plt.title(\"Importancia Global de las Variables (2016–2023)\")\n",
    "plt.gca().invert_yaxis()\n",
    "plt.grid(True, axis='x', linestyle='--', alpha=0.5)\n",
    "plt.tight_layout()\n",
    "plt.show()\n"
   ]
  }
 ],
 "metadata": {
  "kernelspec": {
   "display_name": "base",
   "language": "python",
   "name": "python3"
  },
  "language_info": {
   "codemirror_mode": {
    "name": "ipython",
    "version": 3
   },
   "file_extension": ".py",
   "mimetype": "text/x-python",
   "name": "python",
   "nbconvert_exporter": "python",
   "pygments_lexer": "ipython3",
   "version": "3.11.9"
  }
 },
 "nbformat": 4,
 "nbformat_minor": 5
}
